{
 "cells": [
  {
   "cell_type": "markdown",
   "metadata": {},
   "source": [
    "# Popular Data Science Questions\n",
    "\n",
    "This is a guided project for the Python Data Analyst \n",
    "\n",
    "The goal of this analysis is to determine what content should a data science education company create."
   ]
  },
  {
   "cell_type": "markdown",
   "metadata": {},
   "source": [
    "## Reading the data"
   ]
  },
  {
   "cell_type": "code",
   "execution_count": 1,
   "metadata": {
    "collapsed": true
   },
   "outputs": [],
   "source": [
    "import pandas as pd\n",
    "import matplotlib.pyplot as plt\n",
    "import seaborn as sns\n",
    "\n",
    "%matplotlib inline"
   ]
  },
  {
   "cell_type": "code",
   "execution_count": 2,
   "metadata": {
    "collapsed": true
   },
   "outputs": [],
   "source": [
    "questions = pd.read_csv('2019_questions.csv',parse_dates=['CreationDate'])"
   ]
  },
  {
   "cell_type": "code",
   "execution_count": 3,
   "metadata": {
    "collapsed": false
   },
   "outputs": [
    {
     "name": "stdout",
     "output_type": "stream",
     "text": [
      "<class 'pandas.core.frame.DataFrame'>\n",
      "RangeIndex: 8839 entries, 0 to 8838\n",
      "Data columns (total 7 columns):\n",
      "Id               8839 non-null int64\n",
      "CreationDate     8839 non-null datetime64[ns]\n",
      "Score            8839 non-null int64\n",
      "ViewCount        8839 non-null int64\n",
      "Tags             8839 non-null object\n",
      "AnswerCount      8839 non-null int64\n",
      "FavoriteCount    1407 non-null float64\n",
      "dtypes: datetime64[ns](1), float64(1), int64(4), object(1)\n",
      "memory usage: 483.5+ KB\n"
     ]
    }
   ],
   "source": [
    "questions.info()"
   ]
  },
  {
   "cell_type": "markdown",
   "metadata": {},
   "source": [
    "## Cleaning the data"
   ]
  },
  {
   "cell_type": "code",
   "execution_count": 4,
   "metadata": {
    "collapsed": false
   },
   "outputs": [
    {
     "data": {
      "text/plain": [
       "Id                        int64\n",
       "CreationDate     datetime64[ns]\n",
       "Score                     int64\n",
       "ViewCount                 int64\n",
       "Tags                     object\n",
       "AnswerCount               int64\n",
       "FavoriteCount             int64\n",
       "dtype: object"
      ]
     },
     "execution_count": 4,
     "metadata": {},
     "output_type": "execute_result"
    }
   ],
   "source": [
    "# filling out null values in FavoriteCount\n",
    "\n",
    "questions.fillna(value={'FavoriteCount':0}, inplace=True)\n",
    "\n",
    "#change datatype\n",
    "\n",
    "questions['FavoriteCount'] = questions['FavoriteCount'].astype(int)\n",
    "questions.dtypes"
   ]
  },
  {
   "cell_type": "code",
   "execution_count": 6,
   "metadata": {
    "collapsed": false
   },
   "outputs": [
    {
     "data": {
      "text/plain": [
       "0                         <machine-learning><data-mining>\n",
       "1       <machine-learning><regression><linear-regressi...\n",
       "2            <python><time-series><forecast><forecasting>\n",
       "3                   <machine-learning><scikit-learn><pca>\n",
       "4                <dataset><bigdata><data><speech-to-text>\n",
       "5                                           <fuzzy-logic>\n",
       "6       <time-series><anomaly-detection><online-learning>\n",
       "7                                  <matrix-factorisation>\n",
       "8                   <correlation><naive-bayes-classifier>\n",
       "9       <machine-learning><python><deep-learning><kera...\n",
       "10                                     <machine-learning>\n",
       "11                             <machine-learning><theory>\n",
       "12                   <machine-learning><gradient-descent>\n",
       "13      <nlp><clustering><feature-extraction><encoding...\n",
       "14                  <python><scikit-learn><pandas><numpy>\n",
       "15      <python><scikit-learn><decision-trees><accurac...\n",
       "16                                       <python><pandas>\n",
       "17                         <python><deep-learning><keras>\n",
       "18      <machine-learning><reinforcement-learning><q-l...\n",
       "19      <neural-network><deep-learning><image-classifi...\n",
       "20               <r><logistic-regression><regularization>\n",
       "21      <machine-learning><time-series><predictive-mod...\n",
       "22                       <python><keras><tensorflow><gpu>\n",
       "23               <python><pandas><bigdata><data-cleaning>\n",
       "24      <machine-learning><data-cleaning><logistic-reg...\n",
       "25                             <python><object-detection>\n",
       "26      <machine-learning><recommender-system><supervi...\n",
       "27      <machine-learning><deep-learning><nlp><text-mi...\n",
       "28                               <machine-learning-model>\n",
       "29                                <xgboost><apache-spark>\n",
       "                              ...                        \n",
       "8809    <machine-learning><python><neural-network><ker...\n",
       "8810    <feature-engineering><feature-construction><fe...\n",
       "8811                                         <q-learning>\n",
       "8812                         <r><time-series><statistics>\n",
       "8813      <machine-learning><python><scikit-learn><numpy>\n",
       "8814      <machine-learning><deep-learning><scikit-learn>\n",
       "8815                      <keras><cnn><image-recognition>\n",
       "8816                                         <regression>\n",
       "8817    <classification><feature-selection><feature-en...\n",
       "8818                                               <lstm>\n",
       "8819                           <machine-learning><r><gbm>\n",
       "8820          <keras><regression><xgboost><loss-function>\n",
       "8821    <machine-learning><scikit-learn><random-forest...\n",
       "8822                          <python><keras><tensorflow>\n",
       "8823           <machine-learning><cnn><data-augmentation>\n",
       "8824        <machine-learning><regression><random-forest>\n",
       "8825                           <scikit-learn><clustering>\n",
       "8826    <machine-learning><nlp><lstm><word-embeddings>...\n",
       "8827                                               <lstm>\n",
       "8828    <machine-learning><deep-learning><convnet><con...\n",
       "8829    <machine-learning><python><cross-validation><s...\n",
       "8830                                <python><topic-model>\n",
       "8831                             <cnn><audio-recognition>\n",
       "8832                                  <bigdata><accuracy>\n",
       "8833        <machine-learning><deep-learning><perceptron>\n",
       "8834      <pca><dimensionality-reduction><linear-algebra>\n",
       "8835                       <keras><weight-initialization>\n",
       "8836                     <python><visualization><seaborn>\n",
       "8837                                        <time-series>\n",
       "8838                                               <k-nn>\n",
       "Name: Tags, Length: 8839, dtype: object"
      ]
     },
     "execution_count": 6,
     "metadata": {},
     "output_type": "execute_result"
    }
   ],
   "source": [
    "# modify tags to make it easier to work with\n",
    "\n",
    "questions['Tags']"
   ]
  },
  {
   "cell_type": "code",
   "execution_count": 5,
   "metadata": {
    "collapsed": true
   },
   "outputs": [],
   "source": [
    "\n",
    "questions[\"Tags\"] = questions[\"Tags\"].str.replace(\"^<|>$\", \"\").str.split(\"><\")"
   ]
  },
  {
   "cell_type": "code",
   "execution_count": 8,
   "metadata": {
    "collapsed": false
   },
   "outputs": [
    {
     "data": {
      "text/plain": [
       "0                         [machine-learning, data-mining]\n",
       "1       [machine-learning, regression, linear-regressi...\n",
       "2            [python, time-series, forecast, forecasting]\n",
       "3                   [machine-learning, scikit-learn, pca]\n",
       "4                [dataset, bigdata, data, speech-to-text]\n",
       "5                                           [fuzzy-logic]\n",
       "6       [time-series, anomaly-detection, online-learning]\n",
       "7                                  [matrix-factorisation]\n",
       "8                   [correlation, naive-bayes-classifier]\n",
       "9       [machine-learning, python, deep-learning, kera...\n",
       "10                                     [machine-learning]\n",
       "11                             [machine-learning, theory]\n",
       "12                   [machine-learning, gradient-descent]\n",
       "13      [nlp, clustering, feature-extraction, encoding...\n",
       "14                  [python, scikit-learn, pandas, numpy]\n",
       "15      [python, scikit-learn, decision-trees, accurac...\n",
       "16                                       [python, pandas]\n",
       "17                         [python, deep-learning, keras]\n",
       "18      [machine-learning, reinforcement-learning, q-l...\n",
       "19      [neural-network, deep-learning, image-classifi...\n",
       "20               [r, logistic-regression, regularization]\n",
       "21      [machine-learning, time-series, predictive-mod...\n",
       "22                       [python, keras, tensorflow, gpu]\n",
       "23               [python, pandas, bigdata, data-cleaning]\n",
       "24      [machine-learning, data-cleaning, logistic-reg...\n",
       "25                             [python, object-detection]\n",
       "26      [machine-learning, recommender-system, supervi...\n",
       "27      [machine-learning, deep-learning, nlp, text-mi...\n",
       "28                               [machine-learning-model]\n",
       "29                                [xgboost, apache-spark]\n",
       "                              ...                        \n",
       "8809    [machine-learning, python, neural-network, ker...\n",
       "8810    [feature-engineering, feature-construction, fe...\n",
       "8811                                         [q-learning]\n",
       "8812                         [r, time-series, statistics]\n",
       "8813      [machine-learning, python, scikit-learn, numpy]\n",
       "8814      [machine-learning, deep-learning, scikit-learn]\n",
       "8815                      [keras, cnn, image-recognition]\n",
       "8816                                         [regression]\n",
       "8817    [classification, feature-selection, feature-en...\n",
       "8818                                               [lstm]\n",
       "8819                           [machine-learning, r, gbm]\n",
       "8820          [keras, regression, xgboost, loss-function]\n",
       "8821    [machine-learning, scikit-learn, random-forest...\n",
       "8822                          [python, keras, tensorflow]\n",
       "8823           [machine-learning, cnn, data-augmentation]\n",
       "8824        [machine-learning, regression, random-forest]\n",
       "8825                           [scikit-learn, clustering]\n",
       "8826    [machine-learning, nlp, lstm, word-embeddings,...\n",
       "8827                                               [lstm]\n",
       "8828    [machine-learning, deep-learning, convnet, con...\n",
       "8829    [machine-learning, python, cross-validation, s...\n",
       "8830                                [python, topic-model]\n",
       "8831                             [cnn, audio-recognition]\n",
       "8832                                  [bigdata, accuracy]\n",
       "8833        [machine-learning, deep-learning, perceptron]\n",
       "8834      [pca, dimensionality-reduction, linear-algebra]\n",
       "8835                       [keras, weight-initialization]\n",
       "8836                     [python, visualization, seaborn]\n",
       "8837                                        [time-series]\n",
       "8838                                               [k-nn]\n",
       "Name: Tags, Length: 8839, dtype: object"
      ]
     },
     "execution_count": 8,
     "metadata": {},
     "output_type": "execute_result"
    }
   ],
   "source": [
    "questions['Tags']"
   ]
  },
  {
   "cell_type": "markdown",
   "metadata": {},
   "source": [
    "## Most popular tags"
   ]
  },
  {
   "cell_type": "markdown",
   "metadata": {},
   "source": [
    "We will beging counting how many times each tag is used"
   ]
  },
  {
   "cell_type": "code",
   "execution_count": 7,
   "metadata": {
    "collapsed": true
   },
   "outputs": [],
   "source": [
    "tag_count = dict()\n",
    "\n",
    "for tags in questions['Tags']:\n",
    "    for tag in tags:\n",
    "        if tag in tag_count:\n",
    "            tag_count[tag] += 1\n",
    "        else:\n",
    "            tag_count[tag] = 1"
   ]
  },
  {
   "cell_type": "code",
   "execution_count": 8,
   "metadata": {
    "collapsed": false
   },
   "outputs": [],
   "source": [
    "# Let's transfor tag_count into a dataframe\n",
    "tag_count = pd.DataFrame.from_dict(tag_count, orient='index')\n"
   ]
  },
  {
   "cell_type": "code",
   "execution_count": 9,
   "metadata": {
    "collapsed": false
   },
   "outputs": [],
   "source": [
    "tag_count.rename(columns={0 : 'Count'},inplace=True)"
   ]
  },
  {
   "cell_type": "code",
   "execution_count": 10,
   "metadata": {
    "collapsed": false
   },
   "outputs": [
    {
     "data": {
      "text/html": [
       "<div>\n",
       "<style scoped>\n",
       "    .dataframe tbody tr th:only-of-type {\n",
       "        vertical-align: middle;\n",
       "    }\n",
       "\n",
       "    .dataframe tbody tr th {\n",
       "        vertical-align: top;\n",
       "    }\n",
       "\n",
       "    .dataframe thead th {\n",
       "        text-align: right;\n",
       "    }\n",
       "</style>\n",
       "<table border=\"1\" class=\"dataframe\">\n",
       "  <thead>\n",
       "    <tr style=\"text-align: right;\">\n",
       "      <th></th>\n",
       "      <th>Count</th>\n",
       "    </tr>\n",
       "  </thead>\n",
       "  <tbody>\n",
       "    <tr>\n",
       "      <th>dropout</th>\n",
       "      <td>15</td>\n",
       "    </tr>\n",
       "    <tr>\n",
       "      <th>bigdata</th>\n",
       "      <td>95</td>\n",
       "    </tr>\n",
       "    <tr>\n",
       "      <th>random-forest</th>\n",
       "      <td>159</td>\n",
       "    </tr>\n",
       "    <tr>\n",
       "      <th>machine-learning-model</th>\n",
       "      <td>224</td>\n",
       "    </tr>\n",
       "    <tr>\n",
       "      <th>ensemble</th>\n",
       "      <td>7</td>\n",
       "    </tr>\n",
       "  </tbody>\n",
       "</table>\n",
       "</div>"
      ],
      "text/plain": [
       "                        Count\n",
       "dropout                    15\n",
       "bigdata                    95\n",
       "random-forest             159\n",
       "machine-learning-model    224\n",
       "ensemble                    7"
      ]
     },
     "execution_count": 10,
     "metadata": {},
     "output_type": "execute_result"
    }
   ],
   "source": [
    "tag_count.head()"
   ]
  },
  {
   "cell_type": "markdown",
   "metadata": {},
   "source": [
    "Let's confirm the top 20 tags more used"
   ]
  },
  {
   "cell_type": "code",
   "execution_count": 11,
   "metadata": {
    "collapsed": false
   },
   "outputs": [
    {
     "data": {
      "text/html": [
       "<div>\n",
       "<style scoped>\n",
       "    .dataframe tbody tr th:only-of-type {\n",
       "        vertical-align: middle;\n",
       "    }\n",
       "\n",
       "    .dataframe tbody tr th {\n",
       "        vertical-align: top;\n",
       "    }\n",
       "\n",
       "    .dataframe thead th {\n",
       "        text-align: right;\n",
       "    }\n",
       "</style>\n",
       "<table border=\"1\" class=\"dataframe\">\n",
       "  <thead>\n",
       "    <tr style=\"text-align: right;\">\n",
       "      <th></th>\n",
       "      <th>Count</th>\n",
       "    </tr>\n",
       "  </thead>\n",
       "  <tbody>\n",
       "    <tr>\n",
       "      <th>machine-learning</th>\n",
       "      <td>2693</td>\n",
       "    </tr>\n",
       "    <tr>\n",
       "      <th>python</th>\n",
       "      <td>1814</td>\n",
       "    </tr>\n",
       "    <tr>\n",
       "      <th>deep-learning</th>\n",
       "      <td>1220</td>\n",
       "    </tr>\n",
       "    <tr>\n",
       "      <th>neural-network</th>\n",
       "      <td>1055</td>\n",
       "    </tr>\n",
       "    <tr>\n",
       "      <th>keras</th>\n",
       "      <td>935</td>\n",
       "    </tr>\n",
       "    <tr>\n",
       "      <th>classification</th>\n",
       "      <td>685</td>\n",
       "    </tr>\n",
       "    <tr>\n",
       "      <th>tensorflow</th>\n",
       "      <td>584</td>\n",
       "    </tr>\n",
       "    <tr>\n",
       "      <th>scikit-learn</th>\n",
       "      <td>540</td>\n",
       "    </tr>\n",
       "    <tr>\n",
       "      <th>nlp</th>\n",
       "      <td>493</td>\n",
       "    </tr>\n",
       "    <tr>\n",
       "      <th>cnn</th>\n",
       "      <td>489</td>\n",
       "    </tr>\n",
       "    <tr>\n",
       "      <th>time-series</th>\n",
       "      <td>466</td>\n",
       "    </tr>\n",
       "    <tr>\n",
       "      <th>lstm</th>\n",
       "      <td>402</td>\n",
       "    </tr>\n",
       "    <tr>\n",
       "      <th>pandas</th>\n",
       "      <td>354</td>\n",
       "    </tr>\n",
       "    <tr>\n",
       "      <th>regression</th>\n",
       "      <td>347</td>\n",
       "    </tr>\n",
       "    <tr>\n",
       "      <th>dataset</th>\n",
       "      <td>340</td>\n",
       "    </tr>\n",
       "    <tr>\n",
       "      <th>r</th>\n",
       "      <td>268</td>\n",
       "    </tr>\n",
       "    <tr>\n",
       "      <th>predictive-modeling</th>\n",
       "      <td>265</td>\n",
       "    </tr>\n",
       "    <tr>\n",
       "      <th>clustering</th>\n",
       "      <td>257</td>\n",
       "    </tr>\n",
       "    <tr>\n",
       "      <th>statistics</th>\n",
       "      <td>234</td>\n",
       "    </tr>\n",
       "    <tr>\n",
       "      <th>machine-learning-model</th>\n",
       "      <td>224</td>\n",
       "    </tr>\n",
       "  </tbody>\n",
       "</table>\n",
       "</div>"
      ],
      "text/plain": [
       "                        Count\n",
       "machine-learning         2693\n",
       "python                   1814\n",
       "deep-learning            1220\n",
       "neural-network           1055\n",
       "keras                     935\n",
       "classification            685\n",
       "tensorflow                584\n",
       "scikit-learn              540\n",
       "nlp                       493\n",
       "cnn                       489\n",
       "time-series               466\n",
       "lstm                      402\n",
       "pandas                    354\n",
       "regression                347\n",
       "dataset                   340\n",
       "r                         268\n",
       "predictive-modeling       265\n",
       "clustering                257\n",
       "statistics                234\n",
       "machine-learning-model    224"
      ]
     },
     "execution_count": 11,
     "metadata": {},
     "output_type": "execute_result"
    }
   ],
   "source": [
    "most_used_tags = tag_count.sort_values(by='Count',ascending=False).head(20)\n",
    "most_used_tags"
   ]
  },
  {
   "cell_type": "code",
   "execution_count": 12,
   "metadata": {
    "collapsed": false
   },
   "outputs": [
    {
     "data": {
      "text/plain": [
       "<matplotlib.axes._subplots.AxesSubplot at 0x7fc3d7c19c88>"
      ]
     },
     "execution_count": 12,
     "metadata": {},
     "output_type": "execute_result"
    },
    {
     "data": {
      "image/png": "[encoded data removed]",
      "text/plain": [
       "<matplotlib.figure.Figure at 0x7fc3d85dcc50>"
      ]
     },
     "metadata": {},
     "output_type": "display_data"
    }
   ],
   "source": [
    "\n",
    "most_used_tags.plot(kind=\"barh\", figsize=(16,8))"
   ]
  },
  {
   "cell_type": "markdown",
   "metadata": {},
   "source": [
    "Some tags are very, very broad and are unlikely to be useful; e.g.: python, dataset, r. Before we investigate the tags a little deeper, let's repeat the same process for views."
   ]
  },
  {
   "cell_type": "code",
   "execution_count": 15,
   "metadata": {
    "collapsed": false
   },
   "outputs": [
    {
     "data": {
      "text/plain": [
       "<matplotlib.axes._subplots.AxesSubplot at 0x7fc3d8806cf8>"
      ]
     },
     "execution_count": 15,
     "metadata": {},
     "output_type": "execute_result"
    },
    {
     "data": {
      "image/png": "[encoded data removed]",
      "text/plain": [
       "<matplotlib.figure.Figure at 0x7fc3d7b797b8>"
      ]
     },
     "metadata": {},
     "output_type": "display_data"
    }
   ],
   "source": [
    "\n",
    "tag_view_count = dict()\n",
    "\n",
    "for index, row in questions.iterrows():\n",
    "    for tag in row['Tags']:\n",
    "        if tag in tag_view_count:\n",
    "            tag_view_count[tag] += row['ViewCount']\n",
    "        else:\n",
    "            tag_view_count[tag] = row['ViewCount']\n",
    "            \n",
    "tag_view_count = pd.DataFrame.from_dict(tag_view_count, orient=\"index\")\n",
    "tag_view_count.rename(columns={0: \"ViewCount\"}, inplace=True)\n",
    "\n",
    "most_viewed = tag_view_count.sort_values(by=\"ViewCount\").tail(20)\n",
    "\n",
    "most_viewed.plot(kind=\"barh\", figsize=(16,8))"
   ]
  },
  {
   "cell_type": "markdown",
   "metadata": {},
   "source": [
    "## Relation between tags"
   ]
  },
  {
   "cell_type": "markdown",
   "metadata": {},
   "source": [
    "One way of trying to gauge how pairs of tags are related to each other, is to count how many times each pair appears together. Let's do this.\n",
    "\n",
    "We'll begin by creating a list of all tags."
   ]
  },
  {
   "cell_type": "code",
   "execution_count": 16,
   "metadata": {
    "collapsed": true
   },
   "outputs": [],
   "source": [
    "\n",
    "all_tags = list(tag_count.index)"
   ]
  },
  {
   "cell_type": "code",
   "execution_count": 17,
   "metadata": {
    "collapsed": false
   },
   "outputs": [
    {
     "data": {
      "text/html": [
       "<div>\n",
       "<style scoped>\n",
       "    .dataframe tbody tr th:only-of-type {\n",
       "        vertical-align: middle;\n",
       "    }\n",
       "\n",
       "    .dataframe tbody tr th {\n",
       "        vertical-align: top;\n",
       "    }\n",
       "\n",
       "    .dataframe thead th {\n",
       "        text-align: right;\n",
       "    }\n",
       "</style>\n",
       "<table border=\"1\" class=\"dataframe\">\n",
       "  <thead>\n",
       "    <tr style=\"text-align: right;\">\n",
       "      <th></th>\n",
       "      <th>dropout</th>\n",
       "      <th>bigdata</th>\n",
       "      <th>random-forest</th>\n",
       "      <th>machine-learning-model</th>\n",
       "    </tr>\n",
       "  </thead>\n",
       "  <tbody>\n",
       "    <tr>\n",
       "      <th>dropout</th>\n",
       "      <td>NaN</td>\n",
       "      <td>NaN</td>\n",
       "      <td>NaN</td>\n",
       "      <td>NaN</td>\n",
       "    </tr>\n",
       "    <tr>\n",
       "      <th>bigdata</th>\n",
       "      <td>NaN</td>\n",
       "      <td>NaN</td>\n",
       "      <td>NaN</td>\n",
       "      <td>NaN</td>\n",
       "    </tr>\n",
       "    <tr>\n",
       "      <th>random-forest</th>\n",
       "      <td>NaN</td>\n",
       "      <td>NaN</td>\n",
       "      <td>NaN</td>\n",
       "      <td>NaN</td>\n",
       "    </tr>\n",
       "    <tr>\n",
       "      <th>machine-learning-model</th>\n",
       "      <td>NaN</td>\n",
       "      <td>NaN</td>\n",
       "      <td>NaN</td>\n",
       "      <td>NaN</td>\n",
       "    </tr>\n",
       "  </tbody>\n",
       "</table>\n",
       "</div>"
      ],
      "text/plain": [
       "                       dropout bigdata random-forest machine-learning-model\n",
       "dropout                    NaN     NaN           NaN                    NaN\n",
       "bigdata                    NaN     NaN           NaN                    NaN\n",
       "random-forest              NaN     NaN           NaN                    NaN\n",
       "machine-learning-model     NaN     NaN           NaN                    NaN"
      ]
     },
     "execution_count": 17,
     "metadata": {},
     "output_type": "execute_result"
    }
   ],
   "source": [
    "associations = pd.DataFrame(index=all_tags, columns=all_tags)\n",
    "associations.iloc[0:4,0:4]"
   ]
  },
  {
   "cell_type": "markdown",
   "metadata": {},
   "source": [
    "We will now fill this dataframe with zeroes and then, for each lists of tags in questions[\"Tags\"], we will increment the intervening tags by one. The end result will be a dataframe that for each pair of tags, it tells us how many times they were used together"
   ]
  },
  {
   "cell_type": "code",
   "execution_count": 19,
   "metadata": {
    "collapsed": true
   },
   "outputs": [],
   "source": [
    "\n",
    "associations.fillna(0, inplace=True)\n",
    "\n",
    "for tags in questions[\"Tags\"]:\n",
    "    associations.loc[tags, tags] += 1"
   ]
  },
  {
   "cell_type": "code",
   "execution_count": 20,
   "metadata": {
    "collapsed": false
   },
   "outputs": [
    {
     "data": {
      "text/html": [
       "<style  type=\"text/css\" >\n",
       "    #T_a272b4be_e1cc_11ea_b1bd_0242ac110017row0_col0 {\n",
       "            color:  blue;\n",
       "        }    #T_a272b4be_e1cc_11ea_b1bd_0242ac110017row1_col1 {\n",
       "            color:  blue;\n",
       "        }    #T_a272b4be_e1cc_11ea_b1bd_0242ac110017row2_col2 {\n",
       "            color:  blue;\n",
       "        }    #T_a272b4be_e1cc_11ea_b1bd_0242ac110017row3_col3 {\n",
       "            color:  blue;\n",
       "        }    #T_a272b4be_e1cc_11ea_b1bd_0242ac110017row4_col4 {\n",
       "            color:  blue;\n",
       "        }    #T_a272b4be_e1cc_11ea_b1bd_0242ac110017row5_col5 {\n",
       "            color:  blue;\n",
       "        }    #T_a272b4be_e1cc_11ea_b1bd_0242ac110017row6_col6 {\n",
       "            color:  blue;\n",
       "        }    #T_a272b4be_e1cc_11ea_b1bd_0242ac110017row7_col7 {\n",
       "            color:  blue;\n",
       "        }    #T_a272b4be_e1cc_11ea_b1bd_0242ac110017row8_col8 {\n",
       "            color:  blue;\n",
       "        }    #T_a272b4be_e1cc_11ea_b1bd_0242ac110017row9_col9 {\n",
       "            color:  blue;\n",
       "        }    #T_a272b4be_e1cc_11ea_b1bd_0242ac110017row10_col10 {\n",
       "            color:  blue;\n",
       "        }    #T_a272b4be_e1cc_11ea_b1bd_0242ac110017row10_col15 {\n",
       "            background-color:  yellow;\n",
       "        }    #T_a272b4be_e1cc_11ea_b1bd_0242ac110017row11_col11 {\n",
       "            color:  blue;\n",
       "        }    #T_a272b4be_e1cc_11ea_b1bd_0242ac110017row12_col12 {\n",
       "            color:  blue;\n",
       "        }    #T_a272b4be_e1cc_11ea_b1bd_0242ac110017row13_col13 {\n",
       "            color:  blue;\n",
       "        }    #T_a272b4be_e1cc_11ea_b1bd_0242ac110017row14_col14 {\n",
       "            color:  blue;\n",
       "        }    #T_a272b4be_e1cc_11ea_b1bd_0242ac110017row15_col10 {\n",
       "            background-color:  yellow;\n",
       "        }    #T_a272b4be_e1cc_11ea_b1bd_0242ac110017row15_col15 {\n",
       "            color:  blue;\n",
       "        }    #T_a272b4be_e1cc_11ea_b1bd_0242ac110017row16_col16 {\n",
       "            color:  blue;\n",
       "        }    #T_a272b4be_e1cc_11ea_b1bd_0242ac110017row17_col17 {\n",
       "            color:  blue;\n",
       "        }    #T_a272b4be_e1cc_11ea_b1bd_0242ac110017row18_col18 {\n",
       "            color:  blue;\n",
       "        }    #T_a272b4be_e1cc_11ea_b1bd_0242ac110017row19_col19 {\n",
       "            color:  blue;\n",
       "        }</style>  \n",
       "<table id=\"T_a272b4be_e1cc_11ea_b1bd_0242ac110017\" > \n",
       "<thead>    <tr> \n",
       "        <th class=\"blank level0\" ></th> \n",
       "        <th class=\"col_heading level0 col0\" >machine-learning</th> \n",
       "        <th class=\"col_heading level0 col1\" >python</th> \n",
       "        <th class=\"col_heading level0 col2\" >deep-learning</th> \n",
       "        <th class=\"col_heading level0 col3\" >neural-network</th> \n",
       "        <th class=\"col_heading level0 col4\" >keras</th> \n",
       "        <th class=\"col_heading level0 col5\" >classification</th> \n",
       "        <th class=\"col_heading level0 col6\" >tensorflow</th> \n",
       "        <th class=\"col_heading level0 col7\" >scikit-learn</th> \n",
       "        <th class=\"col_heading level0 col8\" >nlp</th> \n",
       "        <th class=\"col_heading level0 col9\" >cnn</th> \n",
       "        <th class=\"col_heading level0 col10\" >time-series</th> \n",
       "        <th class=\"col_heading level0 col11\" >lstm</th> \n",
       "        <th class=\"col_heading level0 col12\" >pandas</th> \n",
       "        <th class=\"col_heading level0 col13\" >regression</th> \n",
       "        <th class=\"col_heading level0 col14\" >dataset</th> \n",
       "        <th class=\"col_heading level0 col15\" >r</th> \n",
       "        <th class=\"col_heading level0 col16\" >predictive-modeling</th> \n",
       "        <th class=\"col_heading level0 col17\" >clustering</th> \n",
       "        <th class=\"col_heading level0 col18\" >statistics</th> \n",
       "        <th class=\"col_heading level0 col19\" >machine-learning-model</th> \n",
       "    </tr></thead> \n",
       "<tbody>    <tr> \n",
       "        <th id=\"T_a272b4be_e1cc_11ea_b1bd_0242ac110017level0_row0\" class=\"row_heading level0 row0\" >machine-learning</th> \n",
       "        <td id=\"T_a272b4be_e1cc_11ea_b1bd_0242ac110017row0_col0\" class=\"data row0 col0\" >2693</td> \n",
       "        <td id=\"T_a272b4be_e1cc_11ea_b1bd_0242ac110017row0_col1\" class=\"data row0 col1\" >499</td> \n",
       "        <td id=\"T_a272b4be_e1cc_11ea_b1bd_0242ac110017row0_col2\" class=\"data row0 col2\" >429</td> \n",
       "        <td id=\"T_a272b4be_e1cc_11ea_b1bd_0242ac110017row0_col3\" class=\"data row0 col3\" >366</td> \n",
       "        <td id=\"T_a272b4be_e1cc_11ea_b1bd_0242ac110017row0_col4\" class=\"data row0 col4\" >195</td> \n",
       "        <td id=\"T_a272b4be_e1cc_11ea_b1bd_0242ac110017row0_col5\" class=\"data row0 col5\" >259</td> \n",
       "        <td id=\"T_a272b4be_e1cc_11ea_b1bd_0242ac110017row0_col6\" class=\"data row0 col6\" >106</td> \n",
       "        <td id=\"T_a272b4be_e1cc_11ea_b1bd_0242ac110017row0_col7\" class=\"data row0 col7\" >188</td> \n",
       "        <td id=\"T_a272b4be_e1cc_11ea_b1bd_0242ac110017row0_col8\" class=\"data row0 col8\" >113</td> \n",
       "        <td id=\"T_a272b4be_e1cc_11ea_b1bd_0242ac110017row0_col9\" class=\"data row0 col9\" >124</td> \n",
       "        <td id=\"T_a272b4be_e1cc_11ea_b1bd_0242ac110017row0_col10\" class=\"data row0 col10\" >131</td> \n",
       "        <td id=\"T_a272b4be_e1cc_11ea_b1bd_0242ac110017row0_col11\" class=\"data row0 col11\" >71</td> \n",
       "        <td id=\"T_a272b4be_e1cc_11ea_b1bd_0242ac110017row0_col12\" class=\"data row0 col12\" >62</td> \n",
       "        <td id=\"T_a272b4be_e1cc_11ea_b1bd_0242ac110017row0_col13\" class=\"data row0 col13\" >119</td> \n",
       "        <td id=\"T_a272b4be_e1cc_11ea_b1bd_0242ac110017row0_col14\" class=\"data row0 col14\" >99</td> \n",
       "        <td id=\"T_a272b4be_e1cc_11ea_b1bd_0242ac110017row0_col15\" class=\"data row0 col15\" >63</td> \n",
       "        <td id=\"T_a272b4be_e1cc_11ea_b1bd_0242ac110017row0_col16\" class=\"data row0 col16\" >123</td> \n",
       "        <td id=\"T_a272b4be_e1cc_11ea_b1bd_0242ac110017row0_col17\" class=\"data row0 col17\" >61</td> \n",
       "        <td id=\"T_a272b4be_e1cc_11ea_b1bd_0242ac110017row0_col18\" class=\"data row0 col18\" >89</td> \n",
       "        <td id=\"T_a272b4be_e1cc_11ea_b1bd_0242ac110017row0_col19\" class=\"data row0 col19\" >139</td> \n",
       "    </tr>    <tr> \n",
       "        <th id=\"T_a272b4be_e1cc_11ea_b1bd_0242ac110017level0_row1\" class=\"row_heading level0 row1\" >python</th> \n",
       "        <td id=\"T_a272b4be_e1cc_11ea_b1bd_0242ac110017row1_col0\" class=\"data row1 col0\" >499</td> \n",
       "        <td id=\"T_a272b4be_e1cc_11ea_b1bd_0242ac110017row1_col1\" class=\"data row1 col1\" >1814</td> \n",
       "        <td id=\"T_a272b4be_e1cc_11ea_b1bd_0242ac110017row1_col2\" class=\"data row1 col2\" >160</td> \n",
       "        <td id=\"T_a272b4be_e1cc_11ea_b1bd_0242ac110017row1_col3\" class=\"data row1 col3\" >137</td> \n",
       "        <td id=\"T_a272b4be_e1cc_11ea_b1bd_0242ac110017row1_col4\" class=\"data row1 col4\" >280</td> \n",
       "        <td id=\"T_a272b4be_e1cc_11ea_b1bd_0242ac110017row1_col5\" class=\"data row1 col5\" >98</td> \n",
       "        <td id=\"T_a272b4be_e1cc_11ea_b1bd_0242ac110017row1_col6\" class=\"data row1 col6\" >167</td> \n",
       "        <td id=\"T_a272b4be_e1cc_11ea_b1bd_0242ac110017row1_col7\" class=\"data row1 col7\" >235</td> \n",
       "        <td id=\"T_a272b4be_e1cc_11ea_b1bd_0242ac110017row1_col8\" class=\"data row1 col8\" >71</td> \n",
       "        <td id=\"T_a272b4be_e1cc_11ea_b1bd_0242ac110017row1_col9\" class=\"data row1 col9\" >62</td> \n",
       "        <td id=\"T_a272b4be_e1cc_11ea_b1bd_0242ac110017row1_col10\" class=\"data row1 col10\" >105</td> \n",
       "        <td id=\"T_a272b4be_e1cc_11ea_b1bd_0242ac110017row1_col11\" class=\"data row1 col11\" >61</td> \n",
       "        <td id=\"T_a272b4be_e1cc_11ea_b1bd_0242ac110017row1_col12\" class=\"data row1 col12\" >244</td> \n",
       "        <td id=\"T_a272b4be_e1cc_11ea_b1bd_0242ac110017row1_col13\" class=\"data row1 col13\" >59</td> \n",
       "        <td id=\"T_a272b4be_e1cc_11ea_b1bd_0242ac110017row1_col14\" class=\"data row1 col14\" >53</td> \n",
       "        <td id=\"T_a272b4be_e1cc_11ea_b1bd_0242ac110017row1_col15\" class=\"data row1 col15\" >24</td> \n",
       "        <td id=\"T_a272b4be_e1cc_11ea_b1bd_0242ac110017row1_col16\" class=\"data row1 col16\" >35</td> \n",
       "        <td id=\"T_a272b4be_e1cc_11ea_b1bd_0242ac110017row1_col17\" class=\"data row1 col17\" >45</td> \n",
       "        <td id=\"T_a272b4be_e1cc_11ea_b1bd_0242ac110017row1_col18\" class=\"data row1 col18\" >35</td> \n",
       "        <td id=\"T_a272b4be_e1cc_11ea_b1bd_0242ac110017row1_col19\" class=\"data row1 col19\" >37</td> \n",
       "    </tr>    <tr> \n",
       "        <th id=\"T_a272b4be_e1cc_11ea_b1bd_0242ac110017level0_row2\" class=\"row_heading level0 row2\" >deep-learning</th> \n",
       "        <td id=\"T_a272b4be_e1cc_11ea_b1bd_0242ac110017row2_col0\" class=\"data row2 col0\" >429</td> \n",
       "        <td id=\"T_a272b4be_e1cc_11ea_b1bd_0242ac110017row2_col1\" class=\"data row2 col1\" >160</td> \n",
       "        <td id=\"T_a272b4be_e1cc_11ea_b1bd_0242ac110017row2_col2\" class=\"data row2 col2\" >1220</td> \n",
       "        <td id=\"T_a272b4be_e1cc_11ea_b1bd_0242ac110017row2_col3\" class=\"data row2 col3\" >305</td> \n",
       "        <td id=\"T_a272b4be_e1cc_11ea_b1bd_0242ac110017row2_col4\" class=\"data row2 col4\" >247</td> \n",
       "        <td id=\"T_a272b4be_e1cc_11ea_b1bd_0242ac110017row2_col5\" class=\"data row2 col5\" >59</td> \n",
       "        <td id=\"T_a272b4be_e1cc_11ea_b1bd_0242ac110017row2_col6\" class=\"data row2 col6\" >136</td> \n",
       "        <td id=\"T_a272b4be_e1cc_11ea_b1bd_0242ac110017row2_col7\" class=\"data row2 col7\" >16</td> \n",
       "        <td id=\"T_a272b4be_e1cc_11ea_b1bd_0242ac110017row2_col8\" class=\"data row2 col8\" >72</td> \n",
       "        <td id=\"T_a272b4be_e1cc_11ea_b1bd_0242ac110017row2_col9\" class=\"data row2 col9\" >160</td> \n",
       "        <td id=\"T_a272b4be_e1cc_11ea_b1bd_0242ac110017row2_col10\" class=\"data row2 col10\" >44</td> \n",
       "        <td id=\"T_a272b4be_e1cc_11ea_b1bd_0242ac110017row2_col11\" class=\"data row2 col11\" >103</td> \n",
       "        <td id=\"T_a272b4be_e1cc_11ea_b1bd_0242ac110017row2_col12\" class=\"data row2 col12\" >1</td> \n",
       "        <td id=\"T_a272b4be_e1cc_11ea_b1bd_0242ac110017row2_col13\" class=\"data row2 col13\" >21</td> \n",
       "        <td id=\"T_a272b4be_e1cc_11ea_b1bd_0242ac110017row2_col14\" class=\"data row2 col14\" >32</td> \n",
       "        <td id=\"T_a272b4be_e1cc_11ea_b1bd_0242ac110017row2_col15\" class=\"data row2 col15\" >5</td> \n",
       "        <td id=\"T_a272b4be_e1cc_11ea_b1bd_0242ac110017row2_col16\" class=\"data row2 col16\" >32</td> \n",
       "        <td id=\"T_a272b4be_e1cc_11ea_b1bd_0242ac110017row2_col17\" class=\"data row2 col17\" >2</td> \n",
       "        <td id=\"T_a272b4be_e1cc_11ea_b1bd_0242ac110017row2_col18\" class=\"data row2 col18\" >12</td> \n",
       "        <td id=\"T_a272b4be_e1cc_11ea_b1bd_0242ac110017row2_col19\" class=\"data row2 col19\" >19</td> \n",
       "    </tr>    <tr> \n",
       "        <th id=\"T_a272b4be_e1cc_11ea_b1bd_0242ac110017level0_row3\" class=\"row_heading level0 row3\" >neural-network</th> \n",
       "        <td id=\"T_a272b4be_e1cc_11ea_b1bd_0242ac110017row3_col0\" class=\"data row3 col0\" >366</td> \n",
       "        <td id=\"T_a272b4be_e1cc_11ea_b1bd_0242ac110017row3_col1\" class=\"data row3 col1\" >137</td> \n",
       "        <td id=\"T_a272b4be_e1cc_11ea_b1bd_0242ac110017row3_col2\" class=\"data row3 col2\" >305</td> \n",
       "        <td id=\"T_a272b4be_e1cc_11ea_b1bd_0242ac110017row3_col3\" class=\"data row3 col3\" >1055</td> \n",
       "        <td id=\"T_a272b4be_e1cc_11ea_b1bd_0242ac110017row3_col4\" class=\"data row3 col4\" >235</td> \n",
       "        <td id=\"T_a272b4be_e1cc_11ea_b1bd_0242ac110017row3_col5\" class=\"data row3 col5\" >65</td> \n",
       "        <td id=\"T_a272b4be_e1cc_11ea_b1bd_0242ac110017row3_col6\" class=\"data row3 col6\" >108</td> \n",
       "        <td id=\"T_a272b4be_e1cc_11ea_b1bd_0242ac110017row3_col7\" class=\"data row3 col7\" >24</td> \n",
       "        <td id=\"T_a272b4be_e1cc_11ea_b1bd_0242ac110017row3_col8\" class=\"data row3 col8\" >24</td> \n",
       "        <td id=\"T_a272b4be_e1cc_11ea_b1bd_0242ac110017row3_col9\" class=\"data row3 col9\" >118</td> \n",
       "        <td id=\"T_a272b4be_e1cc_11ea_b1bd_0242ac110017row3_col10\" class=\"data row3 col10\" >33</td> \n",
       "        <td id=\"T_a272b4be_e1cc_11ea_b1bd_0242ac110017row3_col11\" class=\"data row3 col11\" >69</td> \n",
       "        <td id=\"T_a272b4be_e1cc_11ea_b1bd_0242ac110017row3_col12\" class=\"data row3 col12\" >1</td> \n",
       "        <td id=\"T_a272b4be_e1cc_11ea_b1bd_0242ac110017row3_col13\" class=\"data row3 col13\" >42</td> \n",
       "        <td id=\"T_a272b4be_e1cc_11ea_b1bd_0242ac110017row3_col14\" class=\"data row3 col14\" >20</td> \n",
       "        <td id=\"T_a272b4be_e1cc_11ea_b1bd_0242ac110017row3_col15\" class=\"data row3 col15\" >9</td> \n",
       "        <td id=\"T_a272b4be_e1cc_11ea_b1bd_0242ac110017row3_col16\" class=\"data row3 col16\" >13</td> \n",
       "        <td id=\"T_a272b4be_e1cc_11ea_b1bd_0242ac110017row3_col17\" class=\"data row3 col17\" >8</td> \n",
       "        <td id=\"T_a272b4be_e1cc_11ea_b1bd_0242ac110017row3_col18\" class=\"data row3 col18\" >11</td> \n",
       "        <td id=\"T_a272b4be_e1cc_11ea_b1bd_0242ac110017row3_col19\" class=\"data row3 col19\" >10</td> \n",
       "    </tr>    <tr> \n",
       "        <th id=\"T_a272b4be_e1cc_11ea_b1bd_0242ac110017level0_row4\" class=\"row_heading level0 row4\" >keras</th> \n",
       "        <td id=\"T_a272b4be_e1cc_11ea_b1bd_0242ac110017row4_col0\" class=\"data row4 col0\" >195</td> \n",
       "        <td id=\"T_a272b4be_e1cc_11ea_b1bd_0242ac110017row4_col1\" class=\"data row4 col1\" >280</td> \n",
       "        <td id=\"T_a272b4be_e1cc_11ea_b1bd_0242ac110017row4_col2\" class=\"data row4 col2\" >247</td> \n",
       "        <td id=\"T_a272b4be_e1cc_11ea_b1bd_0242ac110017row4_col3\" class=\"data row4 col3\" >235</td> \n",
       "        <td id=\"T_a272b4be_e1cc_11ea_b1bd_0242ac110017row4_col4\" class=\"data row4 col4\" >935</td> \n",
       "        <td id=\"T_a272b4be_e1cc_11ea_b1bd_0242ac110017row4_col5\" class=\"data row4 col5\" >58</td> \n",
       "        <td id=\"T_a272b4be_e1cc_11ea_b1bd_0242ac110017row4_col6\" class=\"data row4 col6\" >256</td> \n",
       "        <td id=\"T_a272b4be_e1cc_11ea_b1bd_0242ac110017row4_col7\" class=\"data row4 col7\" >34</td> \n",
       "        <td id=\"T_a272b4be_e1cc_11ea_b1bd_0242ac110017row4_col8\" class=\"data row4 col8\" >23</td> \n",
       "        <td id=\"T_a272b4be_e1cc_11ea_b1bd_0242ac110017row4_col9\" class=\"data row4 col9\" >116</td> \n",
       "        <td id=\"T_a272b4be_e1cc_11ea_b1bd_0242ac110017row4_col10\" class=\"data row4 col10\" >51</td> \n",
       "        <td id=\"T_a272b4be_e1cc_11ea_b1bd_0242ac110017row4_col11\" class=\"data row4 col11\" >133</td> \n",
       "        <td id=\"T_a272b4be_e1cc_11ea_b1bd_0242ac110017row4_col12\" class=\"data row4 col12\" >3</td> \n",
       "        <td id=\"T_a272b4be_e1cc_11ea_b1bd_0242ac110017row4_col13\" class=\"data row4 col13\" >31</td> \n",
       "        <td id=\"T_a272b4be_e1cc_11ea_b1bd_0242ac110017row4_col14\" class=\"data row4 col14\" >13</td> \n",
       "        <td id=\"T_a272b4be_e1cc_11ea_b1bd_0242ac110017row4_col15\" class=\"data row4 col15\" >10</td> \n",
       "        <td id=\"T_a272b4be_e1cc_11ea_b1bd_0242ac110017row4_col16\" class=\"data row4 col16\" >11</td> \n",
       "        <td id=\"T_a272b4be_e1cc_11ea_b1bd_0242ac110017row4_col17\" class=\"data row4 col17\" >0</td> \n",
       "        <td id=\"T_a272b4be_e1cc_11ea_b1bd_0242ac110017row4_col18\" class=\"data row4 col18\" >3</td> \n",
       "        <td id=\"T_a272b4be_e1cc_11ea_b1bd_0242ac110017row4_col19\" class=\"data row4 col19\" >17</td> \n",
       "    </tr>    <tr> \n",
       "        <th id=\"T_a272b4be_e1cc_11ea_b1bd_0242ac110017level0_row5\" class=\"row_heading level0 row5\" >classification</th> \n",
       "        <td id=\"T_a272b4be_e1cc_11ea_b1bd_0242ac110017row5_col0\" class=\"data row5 col0\" >259</td> \n",
       "        <td id=\"T_a272b4be_e1cc_11ea_b1bd_0242ac110017row5_col1\" class=\"data row5 col1\" >98</td> \n",
       "        <td id=\"T_a272b4be_e1cc_11ea_b1bd_0242ac110017row5_col2\" class=\"data row5 col2\" >59</td> \n",
       "        <td id=\"T_a272b4be_e1cc_11ea_b1bd_0242ac110017row5_col3\" class=\"data row5 col3\" >65</td> \n",
       "        <td id=\"T_a272b4be_e1cc_11ea_b1bd_0242ac110017row5_col4\" class=\"data row5 col4\" >58</td> \n",
       "        <td id=\"T_a272b4be_e1cc_11ea_b1bd_0242ac110017row5_col5\" class=\"data row5 col5\" >685</td> \n",
       "        <td id=\"T_a272b4be_e1cc_11ea_b1bd_0242ac110017row5_col6\" class=\"data row5 col6\" >20</td> \n",
       "        <td id=\"T_a272b4be_e1cc_11ea_b1bd_0242ac110017row5_col7\" class=\"data row5 col7\" >47</td> \n",
       "        <td id=\"T_a272b4be_e1cc_11ea_b1bd_0242ac110017row5_col8\" class=\"data row5 col8\" >35</td> \n",
       "        <td id=\"T_a272b4be_e1cc_11ea_b1bd_0242ac110017row5_col9\" class=\"data row5 col9\" >20</td> \n",
       "        <td id=\"T_a272b4be_e1cc_11ea_b1bd_0242ac110017row5_col10\" class=\"data row5 col10\" >25</td> \n",
       "        <td id=\"T_a272b4be_e1cc_11ea_b1bd_0242ac110017row5_col11\" class=\"data row5 col11\" >20</td> \n",
       "        <td id=\"T_a272b4be_e1cc_11ea_b1bd_0242ac110017row5_col12\" class=\"data row5 col12\" >3</td> \n",
       "        <td id=\"T_a272b4be_e1cc_11ea_b1bd_0242ac110017row5_col13\" class=\"data row5 col13\" >34</td> \n",
       "        <td id=\"T_a272b4be_e1cc_11ea_b1bd_0242ac110017row5_col14\" class=\"data row5 col14\" >28</td> \n",
       "        <td id=\"T_a272b4be_e1cc_11ea_b1bd_0242ac110017row5_col15\" class=\"data row5 col15\" >10</td> \n",
       "        <td id=\"T_a272b4be_e1cc_11ea_b1bd_0242ac110017row5_col16\" class=\"data row5 col16\" >27</td> \n",
       "        <td id=\"T_a272b4be_e1cc_11ea_b1bd_0242ac110017row5_col17\" class=\"data row5 col17\" >12</td> \n",
       "        <td id=\"T_a272b4be_e1cc_11ea_b1bd_0242ac110017row5_col18\" class=\"data row5 col18\" >19</td> \n",
       "        <td id=\"T_a272b4be_e1cc_11ea_b1bd_0242ac110017row5_col19\" class=\"data row5 col19\" >21</td> \n",
       "    </tr>    <tr> \n",
       "        <th id=\"T_a272b4be_e1cc_11ea_b1bd_0242ac110017level0_row6\" class=\"row_heading level0 row6\" >tensorflow</th> \n",
       "        <td id=\"T_a272b4be_e1cc_11ea_b1bd_0242ac110017row6_col0\" class=\"data row6 col0\" >106</td> \n",
       "        <td id=\"T_a272b4be_e1cc_11ea_b1bd_0242ac110017row6_col1\" class=\"data row6 col1\" >167</td> \n",
       "        <td id=\"T_a272b4be_e1cc_11ea_b1bd_0242ac110017row6_col2\" class=\"data row6 col2\" >136</td> \n",
       "        <td id=\"T_a272b4be_e1cc_11ea_b1bd_0242ac110017row6_col3\" class=\"data row6 col3\" >108</td> \n",
       "        <td id=\"T_a272b4be_e1cc_11ea_b1bd_0242ac110017row6_col4\" class=\"data row6 col4\" >256</td> \n",
       "        <td id=\"T_a272b4be_e1cc_11ea_b1bd_0242ac110017row6_col5\" class=\"data row6 col5\" >20</td> \n",
       "        <td id=\"T_a272b4be_e1cc_11ea_b1bd_0242ac110017row6_col6\" class=\"data row6 col6\" >584</td> \n",
       "        <td id=\"T_a272b4be_e1cc_11ea_b1bd_0242ac110017row6_col7\" class=\"data row6 col7\" >15</td> \n",
       "        <td id=\"T_a272b4be_e1cc_11ea_b1bd_0242ac110017row6_col8\" class=\"data row6 col8\" >11</td> \n",
       "        <td id=\"T_a272b4be_e1cc_11ea_b1bd_0242ac110017row6_col9\" class=\"data row6 col9\" >57</td> \n",
       "        <td id=\"T_a272b4be_e1cc_11ea_b1bd_0242ac110017row6_col10\" class=\"data row6 col10\" >9</td> \n",
       "        <td id=\"T_a272b4be_e1cc_11ea_b1bd_0242ac110017row6_col11\" class=\"data row6 col11\" >43</td> \n",
       "        <td id=\"T_a272b4be_e1cc_11ea_b1bd_0242ac110017row6_col12\" class=\"data row6 col12\" >3</td> \n",
       "        <td id=\"T_a272b4be_e1cc_11ea_b1bd_0242ac110017row6_col13\" class=\"data row6 col13\" >9</td> \n",
       "        <td id=\"T_a272b4be_e1cc_11ea_b1bd_0242ac110017row6_col14\" class=\"data row6 col14\" >9</td> \n",
       "        <td id=\"T_a272b4be_e1cc_11ea_b1bd_0242ac110017row6_col15\" class=\"data row6 col15\" >1</td> \n",
       "        <td id=\"T_a272b4be_e1cc_11ea_b1bd_0242ac110017row6_col16\" class=\"data row6 col16\" >6</td> \n",
       "        <td id=\"T_a272b4be_e1cc_11ea_b1bd_0242ac110017row6_col17\" class=\"data row6 col17\" >0</td> \n",
       "        <td id=\"T_a272b4be_e1cc_11ea_b1bd_0242ac110017row6_col18\" class=\"data row6 col18\" >0</td> \n",
       "        <td id=\"T_a272b4be_e1cc_11ea_b1bd_0242ac110017row6_col19\" class=\"data row6 col19\" >9</td> \n",
       "    </tr>    <tr> \n",
       "        <th id=\"T_a272b4be_e1cc_11ea_b1bd_0242ac110017level0_row7\" class=\"row_heading level0 row7\" >scikit-learn</th> \n",
       "        <td id=\"T_a272b4be_e1cc_11ea_b1bd_0242ac110017row7_col0\" class=\"data row7 col0\" >188</td> \n",
       "        <td id=\"T_a272b4be_e1cc_11ea_b1bd_0242ac110017row7_col1\" class=\"data row7 col1\" >235</td> \n",
       "        <td id=\"T_a272b4be_e1cc_11ea_b1bd_0242ac110017row7_col2\" class=\"data row7 col2\" >16</td> \n",
       "        <td id=\"T_a272b4be_e1cc_11ea_b1bd_0242ac110017row7_col3\" class=\"data row7 col3\" >24</td> \n",
       "        <td id=\"T_a272b4be_e1cc_11ea_b1bd_0242ac110017row7_col4\" class=\"data row7 col4\" >34</td> \n",
       "        <td id=\"T_a272b4be_e1cc_11ea_b1bd_0242ac110017row7_col5\" class=\"data row7 col5\" >47</td> \n",
       "        <td id=\"T_a272b4be_e1cc_11ea_b1bd_0242ac110017row7_col6\" class=\"data row7 col6\" >15</td> \n",
       "        <td id=\"T_a272b4be_e1cc_11ea_b1bd_0242ac110017row7_col7\" class=\"data row7 col7\" >540</td> \n",
       "        <td id=\"T_a272b4be_e1cc_11ea_b1bd_0242ac110017row7_col8\" class=\"data row7 col8\" >12</td> \n",
       "        <td id=\"T_a272b4be_e1cc_11ea_b1bd_0242ac110017row7_col9\" class=\"data row7 col9\" >0</td> \n",
       "        <td id=\"T_a272b4be_e1cc_11ea_b1bd_0242ac110017row7_col10\" class=\"data row7 col10\" >12</td> \n",
       "        <td id=\"T_a272b4be_e1cc_11ea_b1bd_0242ac110017row7_col11\" class=\"data row7 col11\" >2</td> \n",
       "        <td id=\"T_a272b4be_e1cc_11ea_b1bd_0242ac110017row7_col12\" class=\"data row7 col12\" >37</td> \n",
       "        <td id=\"T_a272b4be_e1cc_11ea_b1bd_0242ac110017row7_col13\" class=\"data row7 col13\" >37</td> \n",
       "        <td id=\"T_a272b4be_e1cc_11ea_b1bd_0242ac110017row7_col14\" class=\"data row7 col14\" >9</td> \n",
       "        <td id=\"T_a272b4be_e1cc_11ea_b1bd_0242ac110017row7_col15\" class=\"data row7 col15\" >1</td> \n",
       "        <td id=\"T_a272b4be_e1cc_11ea_b1bd_0242ac110017row7_col16\" class=\"data row7 col16\" >12</td> \n",
       "        <td id=\"T_a272b4be_e1cc_11ea_b1bd_0242ac110017row7_col17\" class=\"data row7 col17\" >24</td> \n",
       "        <td id=\"T_a272b4be_e1cc_11ea_b1bd_0242ac110017row7_col18\" class=\"data row7 col18\" >6</td> \n",
       "        <td id=\"T_a272b4be_e1cc_11ea_b1bd_0242ac110017row7_col19\" class=\"data row7 col19\" >18</td> \n",
       "    </tr>    <tr> \n",
       "        <th id=\"T_a272b4be_e1cc_11ea_b1bd_0242ac110017level0_row8\" class=\"row_heading level0 row8\" >nlp</th> \n",
       "        <td id=\"T_a272b4be_e1cc_11ea_b1bd_0242ac110017row8_col0\" class=\"data row8 col0\" >113</td> \n",
       "        <td id=\"T_a272b4be_e1cc_11ea_b1bd_0242ac110017row8_col1\" class=\"data row8 col1\" >71</td> \n",
       "        <td id=\"T_a272b4be_e1cc_11ea_b1bd_0242ac110017row8_col2\" class=\"data row8 col2\" >72</td> \n",
       "        <td id=\"T_a272b4be_e1cc_11ea_b1bd_0242ac110017row8_col3\" class=\"data row8 col3\" >24</td> \n",
       "        <td id=\"T_a272b4be_e1cc_11ea_b1bd_0242ac110017row8_col4\" class=\"data row8 col4\" >23</td> \n",
       "        <td id=\"T_a272b4be_e1cc_11ea_b1bd_0242ac110017row8_col5\" class=\"data row8 col5\" >35</td> \n",
       "        <td id=\"T_a272b4be_e1cc_11ea_b1bd_0242ac110017row8_col6\" class=\"data row8 col6\" >11</td> \n",
       "        <td id=\"T_a272b4be_e1cc_11ea_b1bd_0242ac110017row8_col7\" class=\"data row8 col7\" >12</td> \n",
       "        <td id=\"T_a272b4be_e1cc_11ea_b1bd_0242ac110017row8_col8\" class=\"data row8 col8\" >493</td> \n",
       "        <td id=\"T_a272b4be_e1cc_11ea_b1bd_0242ac110017row8_col9\" class=\"data row8 col9\" >7</td> \n",
       "        <td id=\"T_a272b4be_e1cc_11ea_b1bd_0242ac110017row8_col10\" class=\"data row8 col10\" >0</td> \n",
       "        <td id=\"T_a272b4be_e1cc_11ea_b1bd_0242ac110017row8_col11\" class=\"data row8 col11\" >19</td> \n",
       "        <td id=\"T_a272b4be_e1cc_11ea_b1bd_0242ac110017row8_col12\" class=\"data row8 col12\" >3</td> \n",
       "        <td id=\"T_a272b4be_e1cc_11ea_b1bd_0242ac110017row8_col13\" class=\"data row8 col13\" >2</td> \n",
       "        <td id=\"T_a272b4be_e1cc_11ea_b1bd_0242ac110017row8_col14\" class=\"data row8 col14\" >11</td> \n",
       "        <td id=\"T_a272b4be_e1cc_11ea_b1bd_0242ac110017row8_col15\" class=\"data row8 col15\" >4</td> \n",
       "        <td id=\"T_a272b4be_e1cc_11ea_b1bd_0242ac110017row8_col16\" class=\"data row8 col16\" >1</td> \n",
       "        <td id=\"T_a272b4be_e1cc_11ea_b1bd_0242ac110017row8_col17\" class=\"data row8 col17\" >9</td> \n",
       "        <td id=\"T_a272b4be_e1cc_11ea_b1bd_0242ac110017row8_col18\" class=\"data row8 col18\" >3</td> \n",
       "        <td id=\"T_a272b4be_e1cc_11ea_b1bd_0242ac110017row8_col19\" class=\"data row8 col19\" >4</td> \n",
       "    </tr>    <tr> \n",
       "        <th id=\"T_a272b4be_e1cc_11ea_b1bd_0242ac110017level0_row9\" class=\"row_heading level0 row9\" >cnn</th> \n",
       "        <td id=\"T_a272b4be_e1cc_11ea_b1bd_0242ac110017row9_col0\" class=\"data row9 col0\" >124</td> \n",
       "        <td id=\"T_a272b4be_e1cc_11ea_b1bd_0242ac110017row9_col1\" class=\"data row9 col1\" >62</td> \n",
       "        <td id=\"T_a272b4be_e1cc_11ea_b1bd_0242ac110017row9_col2\" class=\"data row9 col2\" >160</td> \n",
       "        <td id=\"T_a272b4be_e1cc_11ea_b1bd_0242ac110017row9_col3\" class=\"data row9 col3\" >118</td> \n",
       "        <td id=\"T_a272b4be_e1cc_11ea_b1bd_0242ac110017row9_col4\" class=\"data row9 col4\" >116</td> \n",
       "        <td id=\"T_a272b4be_e1cc_11ea_b1bd_0242ac110017row9_col5\" class=\"data row9 col5\" >20</td> \n",
       "        <td id=\"T_a272b4be_e1cc_11ea_b1bd_0242ac110017row9_col6\" class=\"data row9 col6\" >57</td> \n",
       "        <td id=\"T_a272b4be_e1cc_11ea_b1bd_0242ac110017row9_col7\" class=\"data row9 col7\" >0</td> \n",
       "        <td id=\"T_a272b4be_e1cc_11ea_b1bd_0242ac110017row9_col8\" class=\"data row9 col8\" >7</td> \n",
       "        <td id=\"T_a272b4be_e1cc_11ea_b1bd_0242ac110017row9_col9\" class=\"data row9 col9\" >489</td> \n",
       "        <td id=\"T_a272b4be_e1cc_11ea_b1bd_0242ac110017row9_col10\" class=\"data row9 col10\" >8</td> \n",
       "        <td id=\"T_a272b4be_e1cc_11ea_b1bd_0242ac110017row9_col11\" class=\"data row9 col11\" >24</td> \n",
       "        <td id=\"T_a272b4be_e1cc_11ea_b1bd_0242ac110017row9_col12\" class=\"data row9 col12\" >1</td> \n",
       "        <td id=\"T_a272b4be_e1cc_11ea_b1bd_0242ac110017row9_col13\" class=\"data row9 col13\" >6</td> \n",
       "        <td id=\"T_a272b4be_e1cc_11ea_b1bd_0242ac110017row9_col14\" class=\"data row9 col14\" >11</td> \n",
       "        <td id=\"T_a272b4be_e1cc_11ea_b1bd_0242ac110017row9_col15\" class=\"data row9 col15\" >2</td> \n",
       "        <td id=\"T_a272b4be_e1cc_11ea_b1bd_0242ac110017row9_col16\" class=\"data row9 col16\" >6</td> \n",
       "        <td id=\"T_a272b4be_e1cc_11ea_b1bd_0242ac110017row9_col17\" class=\"data row9 col17\" >0</td> \n",
       "        <td id=\"T_a272b4be_e1cc_11ea_b1bd_0242ac110017row9_col18\" class=\"data row9 col18\" >1</td> \n",
       "        <td id=\"T_a272b4be_e1cc_11ea_b1bd_0242ac110017row9_col19\" class=\"data row9 col19\" >4</td> \n",
       "    </tr>    <tr> \n",
       "        <th id=\"T_a272b4be_e1cc_11ea_b1bd_0242ac110017level0_row10\" class=\"row_heading level0 row10\" >time-series</th> \n",
       "        <td id=\"T_a272b4be_e1cc_11ea_b1bd_0242ac110017row10_col0\" class=\"data row10 col0\" >131</td> \n",
       "        <td id=\"T_a272b4be_e1cc_11ea_b1bd_0242ac110017row10_col1\" class=\"data row10 col1\" >105</td> \n",
       "        <td id=\"T_a272b4be_e1cc_11ea_b1bd_0242ac110017row10_col2\" class=\"data row10 col2\" >44</td> \n",
       "        <td id=\"T_a272b4be_e1cc_11ea_b1bd_0242ac110017row10_col3\" class=\"data row10 col3\" >33</td> \n",
       "        <td id=\"T_a272b4be_e1cc_11ea_b1bd_0242ac110017row10_col4\" class=\"data row10 col4\" >51</td> \n",
       "        <td id=\"T_a272b4be_e1cc_11ea_b1bd_0242ac110017row10_col5\" class=\"data row10 col5\" >25</td> \n",
       "        <td id=\"T_a272b4be_e1cc_11ea_b1bd_0242ac110017row10_col6\" class=\"data row10 col6\" >9</td> \n",
       "        <td id=\"T_a272b4be_e1cc_11ea_b1bd_0242ac110017row10_col7\" class=\"data row10 col7\" >12</td> \n",
       "        <td id=\"T_a272b4be_e1cc_11ea_b1bd_0242ac110017row10_col8\" class=\"data row10 col8\" >0</td> \n",
       "        <td id=\"T_a272b4be_e1cc_11ea_b1bd_0242ac110017row10_col9\" class=\"data row10 col9\" >8</td> \n",
       "        <td id=\"T_a272b4be_e1cc_11ea_b1bd_0242ac110017row10_col10\" class=\"data row10 col10\" >466</td> \n",
       "        <td id=\"T_a272b4be_e1cc_11ea_b1bd_0242ac110017row10_col11\" class=\"data row10 col11\" >87</td> \n",
       "        <td id=\"T_a272b4be_e1cc_11ea_b1bd_0242ac110017row10_col12\" class=\"data row10 col12\" >19</td> \n",
       "        <td id=\"T_a272b4be_e1cc_11ea_b1bd_0242ac110017row10_col13\" class=\"data row10 col13\" >24</td> \n",
       "        <td id=\"T_a272b4be_e1cc_11ea_b1bd_0242ac110017row10_col14\" class=\"data row10 col14\" >6</td> \n",
       "        <td id=\"T_a272b4be_e1cc_11ea_b1bd_0242ac110017row10_col15\" class=\"data row10 col15\" >22</td> \n",
       "        <td id=\"T_a272b4be_e1cc_11ea_b1bd_0242ac110017row10_col16\" class=\"data row10 col16\" >31</td> \n",
       "        <td id=\"T_a272b4be_e1cc_11ea_b1bd_0242ac110017row10_col17\" class=\"data row10 col17\" >20</td> \n",
       "        <td id=\"T_a272b4be_e1cc_11ea_b1bd_0242ac110017row10_col18\" class=\"data row10 col18\" >22</td> \n",
       "        <td id=\"T_a272b4be_e1cc_11ea_b1bd_0242ac110017row10_col19\" class=\"data row10 col19\" >7</td> \n",
       "    </tr>    <tr> \n",
       "        <th id=\"T_a272b4be_e1cc_11ea_b1bd_0242ac110017level0_row11\" class=\"row_heading level0 row11\" >lstm</th> \n",
       "        <td id=\"T_a272b4be_e1cc_11ea_b1bd_0242ac110017row11_col0\" class=\"data row11 col0\" >71</td> \n",
       "        <td id=\"T_a272b4be_e1cc_11ea_b1bd_0242ac110017row11_col1\" class=\"data row11 col1\" >61</td> \n",
       "        <td id=\"T_a272b4be_e1cc_11ea_b1bd_0242ac110017row11_col2\" class=\"data row11 col2\" >103</td> \n",
       "        <td id=\"T_a272b4be_e1cc_11ea_b1bd_0242ac110017row11_col3\" class=\"data row11 col3\" >69</td> \n",
       "        <td id=\"T_a272b4be_e1cc_11ea_b1bd_0242ac110017row11_col4\" class=\"data row11 col4\" >133</td> \n",
       "        <td id=\"T_a272b4be_e1cc_11ea_b1bd_0242ac110017row11_col5\" class=\"data row11 col5\" >20</td> \n",
       "        <td id=\"T_a272b4be_e1cc_11ea_b1bd_0242ac110017row11_col6\" class=\"data row11 col6\" >43</td> \n",
       "        <td id=\"T_a272b4be_e1cc_11ea_b1bd_0242ac110017row11_col7\" class=\"data row11 col7\" >2</td> \n",
       "        <td id=\"T_a272b4be_e1cc_11ea_b1bd_0242ac110017row11_col8\" class=\"data row11 col8\" >19</td> \n",
       "        <td id=\"T_a272b4be_e1cc_11ea_b1bd_0242ac110017row11_col9\" class=\"data row11 col9\" >24</td> \n",
       "        <td id=\"T_a272b4be_e1cc_11ea_b1bd_0242ac110017row11_col10\" class=\"data row11 col10\" >87</td> \n",
       "        <td id=\"T_a272b4be_e1cc_11ea_b1bd_0242ac110017row11_col11\" class=\"data row11 col11\" >402</td> \n",
       "        <td id=\"T_a272b4be_e1cc_11ea_b1bd_0242ac110017row11_col12\" class=\"data row11 col12\" >7</td> \n",
       "        <td id=\"T_a272b4be_e1cc_11ea_b1bd_0242ac110017row11_col13\" class=\"data row11 col13\" >11</td> \n",
       "        <td id=\"T_a272b4be_e1cc_11ea_b1bd_0242ac110017row11_col14\" class=\"data row11 col14\" >7</td> \n",
       "        <td id=\"T_a272b4be_e1cc_11ea_b1bd_0242ac110017row11_col15\" class=\"data row11 col15\" >3</td> \n",
       "        <td id=\"T_a272b4be_e1cc_11ea_b1bd_0242ac110017row11_col16\" class=\"data row11 col16\" >13</td> \n",
       "        <td id=\"T_a272b4be_e1cc_11ea_b1bd_0242ac110017row11_col17\" class=\"data row11 col17\" >3</td> \n",
       "        <td id=\"T_a272b4be_e1cc_11ea_b1bd_0242ac110017row11_col18\" class=\"data row11 col18\" >1</td> \n",
       "        <td id=\"T_a272b4be_e1cc_11ea_b1bd_0242ac110017row11_col19\" class=\"data row11 col19\" >5</td> \n",
       "    </tr>    <tr> \n",
       "        <th id=\"T_a272b4be_e1cc_11ea_b1bd_0242ac110017level0_row12\" class=\"row_heading level0 row12\" >pandas</th> \n",
       "        <td id=\"T_a272b4be_e1cc_11ea_b1bd_0242ac110017row12_col0\" class=\"data row12 col0\" >62</td> \n",
       "        <td id=\"T_a272b4be_e1cc_11ea_b1bd_0242ac110017row12_col1\" class=\"data row12 col1\" >244</td> \n",
       "        <td id=\"T_a272b4be_e1cc_11ea_b1bd_0242ac110017row12_col2\" class=\"data row12 col2\" >1</td> \n",
       "        <td id=\"T_a272b4be_e1cc_11ea_b1bd_0242ac110017row12_col3\" class=\"data row12 col3\" >1</td> \n",
       "        <td id=\"T_a272b4be_e1cc_11ea_b1bd_0242ac110017row12_col4\" class=\"data row12 col4\" >3</td> \n",
       "        <td id=\"T_a272b4be_e1cc_11ea_b1bd_0242ac110017row12_col5\" class=\"data row12 col5\" >3</td> \n",
       "        <td id=\"T_a272b4be_e1cc_11ea_b1bd_0242ac110017row12_col6\" class=\"data row12 col6\" >3</td> \n",
       "        <td id=\"T_a272b4be_e1cc_11ea_b1bd_0242ac110017row12_col7\" class=\"data row12 col7\" >37</td> \n",
       "        <td id=\"T_a272b4be_e1cc_11ea_b1bd_0242ac110017row12_col8\" class=\"data row12 col8\" >3</td> \n",
       "        <td id=\"T_a272b4be_e1cc_11ea_b1bd_0242ac110017row12_col9\" class=\"data row12 col9\" >1</td> \n",
       "        <td id=\"T_a272b4be_e1cc_11ea_b1bd_0242ac110017row12_col10\" class=\"data row12 col10\" >19</td> \n",
       "        <td id=\"T_a272b4be_e1cc_11ea_b1bd_0242ac110017row12_col11\" class=\"data row12 col11\" >7</td> \n",
       "        <td id=\"T_a272b4be_e1cc_11ea_b1bd_0242ac110017row12_col12\" class=\"data row12 col12\" >354</td> \n",
       "        <td id=\"T_a272b4be_e1cc_11ea_b1bd_0242ac110017row12_col13\" class=\"data row12 col13\" >6</td> \n",
       "        <td id=\"T_a272b4be_e1cc_11ea_b1bd_0242ac110017row12_col14\" class=\"data row12 col14\" >14</td> \n",
       "        <td id=\"T_a272b4be_e1cc_11ea_b1bd_0242ac110017row12_col15\" class=\"data row12 col15\" >2</td> \n",
       "        <td id=\"T_a272b4be_e1cc_11ea_b1bd_0242ac110017row12_col16\" class=\"data row12 col16\" >4</td> \n",
       "        <td id=\"T_a272b4be_e1cc_11ea_b1bd_0242ac110017row12_col17\" class=\"data row12 col17\" >5</td> \n",
       "        <td id=\"T_a272b4be_e1cc_11ea_b1bd_0242ac110017row12_col18\" class=\"data row12 col18\" >3</td> \n",
       "        <td id=\"T_a272b4be_e1cc_11ea_b1bd_0242ac110017row12_col19\" class=\"data row12 col19\" >4</td> \n",
       "    </tr>    <tr> \n",
       "        <th id=\"T_a272b4be_e1cc_11ea_b1bd_0242ac110017level0_row13\" class=\"row_heading level0 row13\" >regression</th> \n",
       "        <td id=\"T_a272b4be_e1cc_11ea_b1bd_0242ac110017row13_col0\" class=\"data row13 col0\" >119</td> \n",
       "        <td id=\"T_a272b4be_e1cc_11ea_b1bd_0242ac110017row13_col1\" class=\"data row13 col1\" >59</td> \n",
       "        <td id=\"T_a272b4be_e1cc_11ea_b1bd_0242ac110017row13_col2\" class=\"data row13 col2\" >21</td> \n",
       "        <td id=\"T_a272b4be_e1cc_11ea_b1bd_0242ac110017row13_col3\" class=\"data row13 col3\" >42</td> \n",
       "        <td id=\"T_a272b4be_e1cc_11ea_b1bd_0242ac110017row13_col4\" class=\"data row13 col4\" >31</td> \n",
       "        <td id=\"T_a272b4be_e1cc_11ea_b1bd_0242ac110017row13_col5\" class=\"data row13 col5\" >34</td> \n",
       "        <td id=\"T_a272b4be_e1cc_11ea_b1bd_0242ac110017row13_col6\" class=\"data row13 col6\" >9</td> \n",
       "        <td id=\"T_a272b4be_e1cc_11ea_b1bd_0242ac110017row13_col7\" class=\"data row13 col7\" >37</td> \n",
       "        <td id=\"T_a272b4be_e1cc_11ea_b1bd_0242ac110017row13_col8\" class=\"data row13 col8\" >2</td> \n",
       "        <td id=\"T_a272b4be_e1cc_11ea_b1bd_0242ac110017row13_col9\" class=\"data row13 col9\" >6</td> \n",
       "        <td id=\"T_a272b4be_e1cc_11ea_b1bd_0242ac110017row13_col10\" class=\"data row13 col10\" >24</td> \n",
       "        <td id=\"T_a272b4be_e1cc_11ea_b1bd_0242ac110017row13_col11\" class=\"data row13 col11\" >11</td> \n",
       "        <td id=\"T_a272b4be_e1cc_11ea_b1bd_0242ac110017row13_col12\" class=\"data row13 col12\" >6</td> \n",
       "        <td id=\"T_a272b4be_e1cc_11ea_b1bd_0242ac110017row13_col13\" class=\"data row13 col13\" >347</td> \n",
       "        <td id=\"T_a272b4be_e1cc_11ea_b1bd_0242ac110017row13_col14\" class=\"data row13 col14\" >6</td> \n",
       "        <td id=\"T_a272b4be_e1cc_11ea_b1bd_0242ac110017row13_col15\" class=\"data row13 col15\" >10</td> \n",
       "        <td id=\"T_a272b4be_e1cc_11ea_b1bd_0242ac110017row13_col16\" class=\"data row13 col16\" >28</td> \n",
       "        <td id=\"T_a272b4be_e1cc_11ea_b1bd_0242ac110017row13_col17\" class=\"data row13 col17\" >2</td> \n",
       "        <td id=\"T_a272b4be_e1cc_11ea_b1bd_0242ac110017row13_col18\" class=\"data row13 col18\" >16</td> \n",
       "        <td id=\"T_a272b4be_e1cc_11ea_b1bd_0242ac110017row13_col19\" class=\"data row13 col19\" >8</td> \n",
       "    </tr>    <tr> \n",
       "        <th id=\"T_a272b4be_e1cc_11ea_b1bd_0242ac110017level0_row14\" class=\"row_heading level0 row14\" >dataset</th> \n",
       "        <td id=\"T_a272b4be_e1cc_11ea_b1bd_0242ac110017row14_col0\" class=\"data row14 col0\" >99</td> \n",
       "        <td id=\"T_a272b4be_e1cc_11ea_b1bd_0242ac110017row14_col1\" class=\"data row14 col1\" >53</td> \n",
       "        <td id=\"T_a272b4be_e1cc_11ea_b1bd_0242ac110017row14_col2\" class=\"data row14 col2\" >32</td> \n",
       "        <td id=\"T_a272b4be_e1cc_11ea_b1bd_0242ac110017row14_col3\" class=\"data row14 col3\" >20</td> \n",
       "        <td id=\"T_a272b4be_e1cc_11ea_b1bd_0242ac110017row14_col4\" class=\"data row14 col4\" >13</td> \n",
       "        <td id=\"T_a272b4be_e1cc_11ea_b1bd_0242ac110017row14_col5\" class=\"data row14 col5\" >28</td> \n",
       "        <td id=\"T_a272b4be_e1cc_11ea_b1bd_0242ac110017row14_col6\" class=\"data row14 col6\" >9</td> \n",
       "        <td id=\"T_a272b4be_e1cc_11ea_b1bd_0242ac110017row14_col7\" class=\"data row14 col7\" >9</td> \n",
       "        <td id=\"T_a272b4be_e1cc_11ea_b1bd_0242ac110017row14_col8\" class=\"data row14 col8\" >11</td> \n",
       "        <td id=\"T_a272b4be_e1cc_11ea_b1bd_0242ac110017row14_col9\" class=\"data row14 col9\" >11</td> \n",
       "        <td id=\"T_a272b4be_e1cc_11ea_b1bd_0242ac110017row14_col10\" class=\"data row14 col10\" >6</td> \n",
       "        <td id=\"T_a272b4be_e1cc_11ea_b1bd_0242ac110017row14_col11\" class=\"data row14 col11\" >7</td> \n",
       "        <td id=\"T_a272b4be_e1cc_11ea_b1bd_0242ac110017row14_col12\" class=\"data row14 col12\" >14</td> \n",
       "        <td id=\"T_a272b4be_e1cc_11ea_b1bd_0242ac110017row14_col13\" class=\"data row14 col13\" >6</td> \n",
       "        <td id=\"T_a272b4be_e1cc_11ea_b1bd_0242ac110017row14_col14\" class=\"data row14 col14\" >340</td> \n",
       "        <td id=\"T_a272b4be_e1cc_11ea_b1bd_0242ac110017row14_col15\" class=\"data row14 col15\" >6</td> \n",
       "        <td id=\"T_a272b4be_e1cc_11ea_b1bd_0242ac110017row14_col16\" class=\"data row14 col16\" >7</td> \n",
       "        <td id=\"T_a272b4be_e1cc_11ea_b1bd_0242ac110017row14_col17\" class=\"data row14 col17\" >5</td> \n",
       "        <td id=\"T_a272b4be_e1cc_11ea_b1bd_0242ac110017row14_col18\" class=\"data row14 col18\" >17</td> \n",
       "        <td id=\"T_a272b4be_e1cc_11ea_b1bd_0242ac110017row14_col19\" class=\"data row14 col19\" >12</td> \n",
       "    </tr>    <tr> \n",
       "        <th id=\"T_a272b4be_e1cc_11ea_b1bd_0242ac110017level0_row15\" class=\"row_heading level0 row15\" >r</th> \n",
       "        <td id=\"T_a272b4be_e1cc_11ea_b1bd_0242ac110017row15_col0\" class=\"data row15 col0\" >63</td> \n",
       "        <td id=\"T_a272b4be_e1cc_11ea_b1bd_0242ac110017row15_col1\" class=\"data row15 col1\" >24</td> \n",
       "        <td id=\"T_a272b4be_e1cc_11ea_b1bd_0242ac110017row15_col2\" class=\"data row15 col2\" >5</td> \n",
       "        <td id=\"T_a272b4be_e1cc_11ea_b1bd_0242ac110017row15_col3\" class=\"data row15 col3\" >9</td> \n",
       "        <td id=\"T_a272b4be_e1cc_11ea_b1bd_0242ac110017row15_col4\" class=\"data row15 col4\" >10</td> \n",
       "        <td id=\"T_a272b4be_e1cc_11ea_b1bd_0242ac110017row15_col5\" class=\"data row15 col5\" >10</td> \n",
       "        <td id=\"T_a272b4be_e1cc_11ea_b1bd_0242ac110017row15_col6\" class=\"data row15 col6\" >1</td> \n",
       "        <td id=\"T_a272b4be_e1cc_11ea_b1bd_0242ac110017row15_col7\" class=\"data row15 col7\" >1</td> \n",
       "        <td id=\"T_a272b4be_e1cc_11ea_b1bd_0242ac110017row15_col8\" class=\"data row15 col8\" >4</td> \n",
       "        <td id=\"T_a272b4be_e1cc_11ea_b1bd_0242ac110017row15_col9\" class=\"data row15 col9\" >2</td> \n",
       "        <td id=\"T_a272b4be_e1cc_11ea_b1bd_0242ac110017row15_col10\" class=\"data row15 col10\" >22</td> \n",
       "        <td id=\"T_a272b4be_e1cc_11ea_b1bd_0242ac110017row15_col11\" class=\"data row15 col11\" >3</td> \n",
       "        <td id=\"T_a272b4be_e1cc_11ea_b1bd_0242ac110017row15_col12\" class=\"data row15 col12\" >2</td> \n",
       "        <td id=\"T_a272b4be_e1cc_11ea_b1bd_0242ac110017row15_col13\" class=\"data row15 col13\" >10</td> \n",
       "        <td id=\"T_a272b4be_e1cc_11ea_b1bd_0242ac110017row15_col14\" class=\"data row15 col14\" >6</td> \n",
       "        <td id=\"T_a272b4be_e1cc_11ea_b1bd_0242ac110017row15_col15\" class=\"data row15 col15\" >268</td> \n",
       "        <td id=\"T_a272b4be_e1cc_11ea_b1bd_0242ac110017row15_col16\" class=\"data row15 col16\" >13</td> \n",
       "        <td id=\"T_a272b4be_e1cc_11ea_b1bd_0242ac110017row15_col17\" class=\"data row15 col17\" >16</td> \n",
       "        <td id=\"T_a272b4be_e1cc_11ea_b1bd_0242ac110017row15_col18\" class=\"data row15 col18\" >16</td> \n",
       "        <td id=\"T_a272b4be_e1cc_11ea_b1bd_0242ac110017row15_col19\" class=\"data row15 col19\" >7</td> \n",
       "    </tr>    <tr> \n",
       "        <th id=\"T_a272b4be_e1cc_11ea_b1bd_0242ac110017level0_row16\" class=\"row_heading level0 row16\" >predictive-modeling</th> \n",
       "        <td id=\"T_a272b4be_e1cc_11ea_b1bd_0242ac110017row16_col0\" class=\"data row16 col0\" >123</td> \n",
       "        <td id=\"T_a272b4be_e1cc_11ea_b1bd_0242ac110017row16_col1\" class=\"data row16 col1\" >35</td> \n",
       "        <td id=\"T_a272b4be_e1cc_11ea_b1bd_0242ac110017row16_col2\" class=\"data row16 col2\" >32</td> \n",
       "        <td id=\"T_a272b4be_e1cc_11ea_b1bd_0242ac110017row16_col3\" class=\"data row16 col3\" >13</td> \n",
       "        <td id=\"T_a272b4be_e1cc_11ea_b1bd_0242ac110017row16_col4\" class=\"data row16 col4\" >11</td> \n",
       "        <td id=\"T_a272b4be_e1cc_11ea_b1bd_0242ac110017row16_col5\" class=\"data row16 col5\" >27</td> \n",
       "        <td id=\"T_a272b4be_e1cc_11ea_b1bd_0242ac110017row16_col6\" class=\"data row16 col6\" >6</td> \n",
       "        <td id=\"T_a272b4be_e1cc_11ea_b1bd_0242ac110017row16_col7\" class=\"data row16 col7\" >12</td> \n",
       "        <td id=\"T_a272b4be_e1cc_11ea_b1bd_0242ac110017row16_col8\" class=\"data row16 col8\" >1</td> \n",
       "        <td id=\"T_a272b4be_e1cc_11ea_b1bd_0242ac110017row16_col9\" class=\"data row16 col9\" >6</td> \n",
       "        <td id=\"T_a272b4be_e1cc_11ea_b1bd_0242ac110017row16_col10\" class=\"data row16 col10\" >31</td> \n",
       "        <td id=\"T_a272b4be_e1cc_11ea_b1bd_0242ac110017row16_col11\" class=\"data row16 col11\" >13</td> \n",
       "        <td id=\"T_a272b4be_e1cc_11ea_b1bd_0242ac110017row16_col12\" class=\"data row16 col12\" >4</td> \n",
       "        <td id=\"T_a272b4be_e1cc_11ea_b1bd_0242ac110017row16_col13\" class=\"data row16 col13\" >28</td> \n",
       "        <td id=\"T_a272b4be_e1cc_11ea_b1bd_0242ac110017row16_col14\" class=\"data row16 col14\" >7</td> \n",
       "        <td id=\"T_a272b4be_e1cc_11ea_b1bd_0242ac110017row16_col15\" class=\"data row16 col15\" >13</td> \n",
       "        <td id=\"T_a272b4be_e1cc_11ea_b1bd_0242ac110017row16_col16\" class=\"data row16 col16\" >265</td> \n",
       "        <td id=\"T_a272b4be_e1cc_11ea_b1bd_0242ac110017row16_col17\" class=\"data row16 col17\" >0</td> \n",
       "        <td id=\"T_a272b4be_e1cc_11ea_b1bd_0242ac110017row16_col18\" class=\"data row16 col18\" >16</td> \n",
       "        <td id=\"T_a272b4be_e1cc_11ea_b1bd_0242ac110017row16_col19\" class=\"data row16 col19\" >21</td> \n",
       "    </tr>    <tr> \n",
       "        <th id=\"T_a272b4be_e1cc_11ea_b1bd_0242ac110017level0_row17\" class=\"row_heading level0 row17\" >clustering</th> \n",
       "        <td id=\"T_a272b4be_e1cc_11ea_b1bd_0242ac110017row17_col0\" class=\"data row17 col0\" >61</td> \n",
       "        <td id=\"T_a272b4be_e1cc_11ea_b1bd_0242ac110017row17_col1\" class=\"data row17 col1\" >45</td> \n",
       "        <td id=\"T_a272b4be_e1cc_11ea_b1bd_0242ac110017row17_col2\" class=\"data row17 col2\" >2</td> \n",
       "        <td id=\"T_a272b4be_e1cc_11ea_b1bd_0242ac110017row17_col3\" class=\"data row17 col3\" >8</td> \n",
       "        <td id=\"T_a272b4be_e1cc_11ea_b1bd_0242ac110017row17_col4\" class=\"data row17 col4\" >0</td> \n",
       "        <td id=\"T_a272b4be_e1cc_11ea_b1bd_0242ac110017row17_col5\" class=\"data row17 col5\" >12</td> \n",
       "        <td id=\"T_a272b4be_e1cc_11ea_b1bd_0242ac110017row17_col6\" class=\"data row17 col6\" >0</td> \n",
       "        <td id=\"T_a272b4be_e1cc_11ea_b1bd_0242ac110017row17_col7\" class=\"data row17 col7\" >24</td> \n",
       "        <td id=\"T_a272b4be_e1cc_11ea_b1bd_0242ac110017row17_col8\" class=\"data row17 col8\" >9</td> \n",
       "        <td id=\"T_a272b4be_e1cc_11ea_b1bd_0242ac110017row17_col9\" class=\"data row17 col9\" >0</td> \n",
       "        <td id=\"T_a272b4be_e1cc_11ea_b1bd_0242ac110017row17_col10\" class=\"data row17 col10\" >20</td> \n",
       "        <td id=\"T_a272b4be_e1cc_11ea_b1bd_0242ac110017row17_col11\" class=\"data row17 col11\" >3</td> \n",
       "        <td id=\"T_a272b4be_e1cc_11ea_b1bd_0242ac110017row17_col12\" class=\"data row17 col12\" >5</td> \n",
       "        <td id=\"T_a272b4be_e1cc_11ea_b1bd_0242ac110017row17_col13\" class=\"data row17 col13\" >2</td> \n",
       "        <td id=\"T_a272b4be_e1cc_11ea_b1bd_0242ac110017row17_col14\" class=\"data row17 col14\" >5</td> \n",
       "        <td id=\"T_a272b4be_e1cc_11ea_b1bd_0242ac110017row17_col15\" class=\"data row17 col15\" >16</td> \n",
       "        <td id=\"T_a272b4be_e1cc_11ea_b1bd_0242ac110017row17_col16\" class=\"data row17 col16\" >0</td> \n",
       "        <td id=\"T_a272b4be_e1cc_11ea_b1bd_0242ac110017row17_col17\" class=\"data row17 col17\" >257</td> \n",
       "        <td id=\"T_a272b4be_e1cc_11ea_b1bd_0242ac110017row17_col18\" class=\"data row17 col18\" >3</td> \n",
       "        <td id=\"T_a272b4be_e1cc_11ea_b1bd_0242ac110017row17_col19\" class=\"data row17 col19\" >3</td> \n",
       "    </tr>    <tr> \n",
       "        <th id=\"T_a272b4be_e1cc_11ea_b1bd_0242ac110017level0_row18\" class=\"row_heading level0 row18\" >statistics</th> \n",
       "        <td id=\"T_a272b4be_e1cc_11ea_b1bd_0242ac110017row18_col0\" class=\"data row18 col0\" >89</td> \n",
       "        <td id=\"T_a272b4be_e1cc_11ea_b1bd_0242ac110017row18_col1\" class=\"data row18 col1\" >35</td> \n",
       "        <td id=\"T_a272b4be_e1cc_11ea_b1bd_0242ac110017row18_col2\" class=\"data row18 col2\" >12</td> \n",
       "        <td id=\"T_a272b4be_e1cc_11ea_b1bd_0242ac110017row18_col3\" class=\"data row18 col3\" >11</td> \n",
       "        <td id=\"T_a272b4be_e1cc_11ea_b1bd_0242ac110017row18_col4\" class=\"data row18 col4\" >3</td> \n",
       "        <td id=\"T_a272b4be_e1cc_11ea_b1bd_0242ac110017row18_col5\" class=\"data row18 col5\" >19</td> \n",
       "        <td id=\"T_a272b4be_e1cc_11ea_b1bd_0242ac110017row18_col6\" class=\"data row18 col6\" >0</td> \n",
       "        <td id=\"T_a272b4be_e1cc_11ea_b1bd_0242ac110017row18_col7\" class=\"data row18 col7\" >6</td> \n",
       "        <td id=\"T_a272b4be_e1cc_11ea_b1bd_0242ac110017row18_col8\" class=\"data row18 col8\" >3</td> \n",
       "        <td id=\"T_a272b4be_e1cc_11ea_b1bd_0242ac110017row18_col9\" class=\"data row18 col9\" >1</td> \n",
       "        <td id=\"T_a272b4be_e1cc_11ea_b1bd_0242ac110017row18_col10\" class=\"data row18 col10\" >22</td> \n",
       "        <td id=\"T_a272b4be_e1cc_11ea_b1bd_0242ac110017row18_col11\" class=\"data row18 col11\" >1</td> \n",
       "        <td id=\"T_a272b4be_e1cc_11ea_b1bd_0242ac110017row18_col12\" class=\"data row18 col12\" >3</td> \n",
       "        <td id=\"T_a272b4be_e1cc_11ea_b1bd_0242ac110017row18_col13\" class=\"data row18 col13\" >16</td> \n",
       "        <td id=\"T_a272b4be_e1cc_11ea_b1bd_0242ac110017row18_col14\" class=\"data row18 col14\" >17</td> \n",
       "        <td id=\"T_a272b4be_e1cc_11ea_b1bd_0242ac110017row18_col15\" class=\"data row18 col15\" >16</td> \n",
       "        <td id=\"T_a272b4be_e1cc_11ea_b1bd_0242ac110017row18_col16\" class=\"data row18 col16\" >16</td> \n",
       "        <td id=\"T_a272b4be_e1cc_11ea_b1bd_0242ac110017row18_col17\" class=\"data row18 col17\" >3</td> \n",
       "        <td id=\"T_a272b4be_e1cc_11ea_b1bd_0242ac110017row18_col18\" class=\"data row18 col18\" >234</td> \n",
       "        <td id=\"T_a272b4be_e1cc_11ea_b1bd_0242ac110017row18_col19\" class=\"data row18 col19\" >3</td> \n",
       "    </tr>    <tr> \n",
       "        <th id=\"T_a272b4be_e1cc_11ea_b1bd_0242ac110017level0_row19\" class=\"row_heading level0 row19\" >machine-learning-model</th> \n",
       "        <td id=\"T_a272b4be_e1cc_11ea_b1bd_0242ac110017row19_col0\" class=\"data row19 col0\" >139</td> \n",
       "        <td id=\"T_a272b4be_e1cc_11ea_b1bd_0242ac110017row19_col1\" class=\"data row19 col1\" >37</td> \n",
       "        <td id=\"T_a272b4be_e1cc_11ea_b1bd_0242ac110017row19_col2\" class=\"data row19 col2\" >19</td> \n",
       "        <td id=\"T_a272b4be_e1cc_11ea_b1bd_0242ac110017row19_col3\" class=\"data row19 col3\" >10</td> \n",
       "        <td id=\"T_a272b4be_e1cc_11ea_b1bd_0242ac110017row19_col4\" class=\"data row19 col4\" >17</td> \n",
       "        <td id=\"T_a272b4be_e1cc_11ea_b1bd_0242ac110017row19_col5\" class=\"data row19 col5\" >21</td> \n",
       "        <td id=\"T_a272b4be_e1cc_11ea_b1bd_0242ac110017row19_col6\" class=\"data row19 col6\" >9</td> \n",
       "        <td id=\"T_a272b4be_e1cc_11ea_b1bd_0242ac110017row19_col7\" class=\"data row19 col7\" >18</td> \n",
       "        <td id=\"T_a272b4be_e1cc_11ea_b1bd_0242ac110017row19_col8\" class=\"data row19 col8\" >4</td> \n",
       "        <td id=\"T_a272b4be_e1cc_11ea_b1bd_0242ac110017row19_col9\" class=\"data row19 col9\" >4</td> \n",
       "        <td id=\"T_a272b4be_e1cc_11ea_b1bd_0242ac110017row19_col10\" class=\"data row19 col10\" >7</td> \n",
       "        <td id=\"T_a272b4be_e1cc_11ea_b1bd_0242ac110017row19_col11\" class=\"data row19 col11\" >5</td> \n",
       "        <td id=\"T_a272b4be_e1cc_11ea_b1bd_0242ac110017row19_col12\" class=\"data row19 col12\" >4</td> \n",
       "        <td id=\"T_a272b4be_e1cc_11ea_b1bd_0242ac110017row19_col13\" class=\"data row19 col13\" >8</td> \n",
       "        <td id=\"T_a272b4be_e1cc_11ea_b1bd_0242ac110017row19_col14\" class=\"data row19 col14\" >12</td> \n",
       "        <td id=\"T_a272b4be_e1cc_11ea_b1bd_0242ac110017row19_col15\" class=\"data row19 col15\" >7</td> \n",
       "        <td id=\"T_a272b4be_e1cc_11ea_b1bd_0242ac110017row19_col16\" class=\"data row19 col16\" >21</td> \n",
       "        <td id=\"T_a272b4be_e1cc_11ea_b1bd_0242ac110017row19_col17\" class=\"data row19 col17\" >3</td> \n",
       "        <td id=\"T_a272b4be_e1cc_11ea_b1bd_0242ac110017row19_col18\" class=\"data row19 col18\" >3</td> \n",
       "        <td id=\"T_a272b4be_e1cc_11ea_b1bd_0242ac110017row19_col19\" class=\"data row19 col19\" >224</td> \n",
       "    </tr></tbody> \n",
       "</table> "
      ],
      "text/plain": [
       "<pandas.io.formats.style.Styler at 0x7fc3d7cfce48>"
      ]
     },
     "execution_count": 20,
     "metadata": {},
     "output_type": "execute_result"
    }
   ],
   "source": [
    "relations_most_used = associations.loc[most_used_tags.index, most_used_tags.index]\n",
    "\n",
    "def style_cells(x):\n",
    "    helper_df = pd.DataFrame('', index=x.index, columns=x.columns)\n",
    "    helper_df.loc[\"time-series\", \"r\"] = \"background-color: yellow\"\n",
    "    helper_df.loc[\"r\", \"time-series\"] = \"background-color: yellow\"\n",
    "    for k in range(helper_df.shape[0]):\n",
    "        helper_df.iloc[k,k] = \"color: blue\"\n",
    "    \n",
    "    return helper_df\n",
    "\n",
    "relations_most_used.style.apply(style_cells, axis=None)"
   ]
  },
  {
   "cell_type": "markdown",
   "metadata": {},
   "source": [
    "The cells highlighted in yellow tell us that time-series was used together with r 22 times. The values in blue tell us how many times each of the tags was used. We saw earlier that machine-learning was used 2693 times and we confirm it in this dataframe.\n",
    "\n",
    "It's hard for a human to understand what is going on in this dataframe. Let's create a heatmap. But before we do it, let's get rid of the values in blue, otherwise the colors will be too skewed."
   ]
  },
  {
   "cell_type": "code",
   "execution_count": 21,
   "metadata": {
    "collapsed": true
   },
   "outputs": [],
   "source": [
    "for i in range(relations_most_used.shape[0]):\n",
    "    relations_most_used.iloc[i,i] = pd.np.NaN"
   ]
  },
  {
   "cell_type": "code",
   "execution_count": 22,
   "metadata": {
    "collapsed": false
   },
   "outputs": [
    {
     "data": {
      "text/plain": [
       "<matplotlib.axes._subplots.AxesSubplot at 0x7fc3d7d4def0>"
      ]
     },
     "execution_count": 22,
     "metadata": {},
     "output_type": "execute_result"
    },
    {
     "data": {
      "image/png": "[encoded data removed]",
      "text/plain": [
       "<matplotlib.figure.Figure at 0x7fc3d7cfc978>"
      ]
     },
     "metadata": {},
     "output_type": "display_data"
    }
   ],
   "source": [
    "plt.figure(figsize=(12,8))\n",
    "sns.heatmap(relations_most_used, cmap=\"Greens\", annot=False)"
   ]
  },
  {
   "cell_type": "markdown",
   "metadata": {},
   "source": [
    "The most used tags also seem to have the strongest relationships, as given by the dark concentration in the bottom right corner. However, this could simply be because each of these tags is used a lot, and so end up being used together a lot without possibly even having any strong relation between them.\n",
    "\n",
    "A more intuitive manifestation of this phenomenon is the following. A lot of people buy bread, a lot of people buy toilet paper, so they end up being purchased together a lot, but purchasing one of them doesn't increase the chances of purchasing the other.\n",
    "\n",
    "Another shortcoming of this attempt is that it only looks at relations between pairs of tags and not between multiple groups of tags. For example, it could be the case that when used together, dataset and scikit-learn have a \"strong\" relation to pandas, but each by itself doesn't.\n",
    "\n",
    "So how do we attack both these problems? There is a powerful data mining technique that allows us to handle this: association rules. Association rules allow us to analytically spot relations like \"people who purchase milk, also purchase eggs\". Moreover, we can also measure how strong this relations are on several fronts: how common the relation is, how strong it is, and how independent the components of the relationship are (toilet paper and bread are probably more independent than eggs and milk — you'll learn more about statistical independence) in the next step).\n",
    "\n",
    "We won't get into the details of it, as the technique is out of scope for this course, but it is a path worth investigating!"
   ]
  },
  {
   "cell_type": "markdown",
   "metadata": {},
   "source": [
    "\n",
    "## Enter Domain Knowledge\n",
    "Keras, scikit-learn, TensorFlow are all Python libraries that allow their users to employ deep learning (a type of neural network).\n",
    "\n",
    "Most of the top tags are all intimately related with one central machine learning theme: deep learning. If we want to be very specific, we can suggest the creation of Python content that uses deep learning for classification problems (and other variations of this suggestion).\n",
    "\n",
    "At the glance of an eye, someone with sufficient domain knowledge can tell that the most popular topic at the moment, as shown by our analysis, is deep learning.\n",
    "\n",
    "## Just a Fad?\n",
    "Let's read in the file into a dataframe called all_q. We'll parse the dates at read-time."
   ]
  },
  {
   "cell_type": "code",
   "execution_count": 23,
   "metadata": {
    "collapsed": true
   },
   "outputs": [],
   "source": [
    "all_q = pd.read_csv(\"all_questions.csv\", parse_dates=[\"CreationDate\"])"
   ]
  },
  {
   "cell_type": "code",
   "execution_count": 24,
   "metadata": {
    "collapsed": true
   },
   "outputs": [],
   "source": [
    "# clean tags column\n",
    "\n",
    "all_q[\"Tags\"] = all_q[\"Tags\"].str.replace(\"^<|>$\", \"\").str.split(\"><\")"
   ]
  },
  {
   "cell_type": "markdown",
   "metadata": {},
   "source": [
    "Before deciding which questions should be classified as being deep learning questions, we should decide what tags are deep learning tags.\n",
    "\n",
    "The definition of what constitutes a deep learning tag we'll use is: a tag that belongs to the list [\"lstm\", \"cnn\", \"scikit-learn\", \"tensorflow\", \"keras\", \"neural-network\", \"deep-learning\"].\n",
    "\n",
    "This list was obtained by looking at all the tags in most_used and seeing which ones had any relation to deep learning. You can use Google and read the tags descriptions to reach similar results.\n",
    "\n",
    "We'll now create a function that assigns 1 to deep learning questions and 0 otherwise; and we use it."
   ]
  },
  {
   "cell_type": "code",
   "execution_count": 47,
   "metadata": {
    "collapsed": true
   },
   "outputs": [],
   "source": [
    "\n",
    "def class_deep_learning(tags):\n",
    "    for tag in tags:\n",
    "        if tag in [\"lstm\", \"cnn\", \"scikit-learn\", \"tensorflow\",\n",
    "                   \"keras\", \"neural-network\", \"deep-learning\"]:\n",
    "            return 1\n",
    "    return 0"
   ]
  },
  {
   "cell_type": "code",
   "execution_count": 48,
   "metadata": {
    "collapsed": false,
    "scrolled": true
   },
   "outputs": [
    {
     "data": {
      "text/html": [
       "<div>\n",
       "<style scoped>\n",
       "    .dataframe tbody tr th:only-of-type {\n",
       "        vertical-align: middle;\n",
       "    }\n",
       "\n",
       "    .dataframe tbody tr th {\n",
       "        vertical-align: top;\n",
       "    }\n",
       "\n",
       "    .dataframe thead th {\n",
       "        text-align: right;\n",
       "    }\n",
       "</style>\n",
       "<table border=\"1\" class=\"dataframe\">\n",
       "  <thead>\n",
       "    <tr style=\"text-align: right;\">\n",
       "      <th></th>\n",
       "      <th>Id</th>\n",
       "      <th>CreationDate</th>\n",
       "      <th>Tags</th>\n",
       "      <th>DeepLearning</th>\n",
       "    </tr>\n",
       "  </thead>\n",
       "  <tbody>\n",
       "    <tr>\n",
       "      <th>0</th>\n",
       "      <td>45416</td>\n",
       "      <td>2019-02-12 00:36:29</td>\n",
       "      <td>&lt;python&gt;&lt;keras&gt;&lt;tensorflow&gt;&lt;cnn&gt;&lt;probability&gt;</td>\n",
       "      <td>0</td>\n",
       "    </tr>\n",
       "    <tr>\n",
       "      <th>1</th>\n",
       "      <td>45418</td>\n",
       "      <td>2019-02-12 00:50:39</td>\n",
       "      <td>&lt;neural-network&gt;</td>\n",
       "      <td>0</td>\n",
       "    </tr>\n",
       "    <tr>\n",
       "      <th>2</th>\n",
       "      <td>45422</td>\n",
       "      <td>2019-02-12 04:40:51</td>\n",
       "      <td>&lt;python&gt;&lt;ibm-watson&gt;&lt;chatbot&gt;</td>\n",
       "      <td>0</td>\n",
       "    </tr>\n",
       "    <tr>\n",
       "      <th>3</th>\n",
       "      <td>45426</td>\n",
       "      <td>2019-02-12 04:51:49</td>\n",
       "      <td>&lt;keras&gt;</td>\n",
       "      <td>0</td>\n",
       "    </tr>\n",
       "    <tr>\n",
       "      <th>4</th>\n",
       "      <td>45427</td>\n",
       "      <td>2019-02-12 05:08:24</td>\n",
       "      <td>&lt;r&gt;&lt;predictive-modeling&gt;&lt;machine-learning-mode...</td>\n",
       "      <td>0</td>\n",
       "    </tr>\n",
       "  </tbody>\n",
       "</table>\n",
       "</div>"
      ],
      "text/plain": [
       "      Id        CreationDate  \\\n",
       "0  45416 2019-02-12 00:36:29   \n",
       "1  45418 2019-02-12 00:50:39   \n",
       "2  45422 2019-02-12 04:40:51   \n",
       "3  45426 2019-02-12 04:51:49   \n",
       "4  45427 2019-02-12 05:08:24   \n",
       "\n",
       "                                                Tags  DeepLearning  \n",
       "0      <python><keras><tensorflow><cnn><probability>             0  \n",
       "1                                   <neural-network>             0  \n",
       "2                      <python><ibm-watson><chatbot>             0  \n",
       "3                                            <keras>             0  \n",
       "4  <r><predictive-modeling><machine-learning-mode...             0  "
      ]
     },
     "execution_count": 48,
     "metadata": {},
     "output_type": "execute_result"
    }
   ],
   "source": [
    "all_q[\"DeepLearning\"] = all_q[\"Tags\"].apply(class_deep_learning)\n",
    "\n",
    "all_q.head()"
   ]
  },
  {
   "cell_type": "code",
   "execution_count": 49,
   "metadata": {
    "collapsed": true
   },
   "outputs": [],
   "source": [
    "all_q = all_q[all_q[\"CreationDate\"].dt.year < 2020]"
   ]
  },
  {
   "cell_type": "code",
   "execution_count": 50,
   "metadata": {
    "collapsed": true
   },
   "outputs": [],
   "source": [
    "# creates column to identify the quarter in which a question was asked\n",
    "def fetch_quarter(datetime):\n",
    "    year = str(datetime.year)[-2:]\n",
    "    quarter = str(((datetime.month-1) // 3) + 1)\n",
    "    return \"{y}Q{q}\".format(y=year, q=quarter)\n",
    "\n",
    "all_q[\"Quarter\"] = all_q[\"CreationDate\"].apply(fetch_quarter)"
   ]
  },
  {
   "cell_type": "markdown",
   "metadata": {},
   "source": [
    "For the final stretch of this screen, we'll group by quarter and:\n",
    "\n",
    "Count the number of deep learning questions.\n",
    "Count the total number of questions.\n",
    "Compute the ratio between the two numbers above."
   ]
  },
  {
   "cell_type": "code",
   "execution_count": 51,
   "metadata": {
    "collapsed": false
   },
   "outputs": [
    {
     "data": {
      "text/html": [
       "<div>\n",
       "<style scoped>\n",
       "    .dataframe tbody tr th:only-of-type {\n",
       "        vertical-align: middle;\n",
       "    }\n",
       "\n",
       "    .dataframe tbody tr th {\n",
       "        vertical-align: top;\n",
       "    }\n",
       "\n",
       "    .dataframe thead th {\n",
       "        text-align: right;\n",
       "    }\n",
       "</style>\n",
       "<table border=\"1\" class=\"dataframe\">\n",
       "  <thead>\n",
       "    <tr style=\"text-align: right;\">\n",
       "      <th></th>\n",
       "      <th>Quarter</th>\n",
       "      <th>DeepLearningQuestions</th>\n",
       "      <th>TotalQuestions</th>\n",
       "      <th>DeepLearningRate</th>\n",
       "    </tr>\n",
       "  </thead>\n",
       "  <tbody>\n",
       "    <tr>\n",
       "      <th>12</th>\n",
       "      <td>17Q2</td>\n",
       "      <td>0</td>\n",
       "      <td>647</td>\n",
       "      <td>0.0</td>\n",
       "    </tr>\n",
       "    <tr>\n",
       "      <th>3</th>\n",
       "      <td>15Q1</td>\n",
       "      <td>0</td>\n",
       "      <td>190</td>\n",
       "      <td>0.0</td>\n",
       "    </tr>\n",
       "    <tr>\n",
       "      <th>16</th>\n",
       "      <td>18Q2</td>\n",
       "      <td>0</td>\n",
       "      <td>1448</td>\n",
       "      <td>0.0</td>\n",
       "    </tr>\n",
       "    <tr>\n",
       "      <th>5</th>\n",
       "      <td>15Q3</td>\n",
       "      <td>0</td>\n",
       "      <td>311</td>\n",
       "      <td>0.0</td>\n",
       "    </tr>\n",
       "    <tr>\n",
       "      <th>17</th>\n",
       "      <td>18Q3</td>\n",
       "      <td>0</td>\n",
       "      <td>1512</td>\n",
       "      <td>0.0</td>\n",
       "    </tr>\n",
       "  </tbody>\n",
       "</table>\n",
       "</div>"
      ],
      "text/plain": [
       "   Quarter  DeepLearningQuestions  TotalQuestions  DeepLearningRate\n",
       "12    17Q2                      0             647               0.0\n",
       "3     15Q1                      0             190               0.0\n",
       "16    18Q2                      0            1448               0.0\n",
       "5     15Q3                      0             311               0.0\n",
       "17    18Q3                      0            1512               0.0"
      ]
     },
     "execution_count": 51,
     "metadata": {},
     "output_type": "execute_result"
    }
   ],
   "source": [
    "\n",
    "quarterly = all_q.groupby('Quarter').agg({\"DeepLearning\": ['sum', 'size']})\n",
    "quarterly.columns = ['DeepLearningQuestions', 'TotalQuestions']\n",
    "quarterly[\"DeepLearningRate\"] = quarterly[\"DeepLearningQuestions\"]\\\n",
    "                                /quarterly[\"TotalQuestions\"]\n",
    "# The following is done to help with visualizations later.\n",
    "quarterly.reset_index(inplace=True)\n",
    "quarterly.sample(5)"
   ]
  },
  {
   "cell_type": "code",
   "execution_count": 52,
   "metadata": {
    "collapsed": false
   },
   "outputs": [
    {
     "data": {
      "image/png": "[encoded data removed]",
      "text/plain": [
       "<matplotlib.figure.Figure at 0x7f073e5acb70>"
      ]
     },
     "metadata": {},
     "output_type": "display_data"
    }
   ],
   "source": [
    "ax1 = quarterly.plot(x=\"Quarter\", y=\"DeepLearningRate\",\n",
    "                    kind=\"line\", linestyle=\"-\", marker=\"o\", color=\"orange\",\n",
    "                    figsize=(24,12)\n",
    "                    )\n",
    "\n",
    "ax2 = quarterly.plot(x=\"Quarter\", y=\"TotalQuestions\",\n",
    "                     kind=\"bar\", ax=ax1, secondary_y=True, alpha=0.7, rot=45)\n",
    "\n",
    "for idx, t in quarterly[\"TotalQuestions\"].iteritems():\n",
    "    ax2.text(idx, t, str(t), ha=\"center\", va=\"bottom\")\n",
    "xlims = ax1.get_xlim()\n",
    "\n",
    "ax1.get_legend().remove()\n",
    "\n",
    "handles1, labels1 = ax1.get_legend_handles_labels()\n",
    "handles2, labels2 = ax2.get_legend_handles_labels()\n",
    "ax1.legend(handles=handles1 + handles2,\n",
    "           labels=labels1 + labels2,\n",
    "           loc=\"upper left\", prop={\"size\": 12})\n",
    "\n",
    "\n",
    "for ax in (ax1, ax2):\n",
    "    for where in (\"top\", \"right\"):\n",
    "        ax.spines[where].set_visible(False)\n",
    "        ax.tick_params(right=False, labelright=False)"
   ]
  },
  {
   "cell_type": "markdown",
   "metadata": {},
   "source": [
    "\n",
    "It seems that deep learning questions was a high-growth trend since the start of DSSE and it looks like it is plateauing. There is no evidence to suggest that interest in deep learning is decreasing and so we maintain our previous idea of proposing that we create deep learning content."
   ]
  },
  {
   "cell_type": "code",
   "execution_count": null,
   "metadata": {
    "collapsed": true
   },
   "outputs": [],
   "source": []
  }
 ],
 "metadata": {
  "kernelspec": {
   "display_name": "Python 3",
   "language": "python",
   "name": "python3"
  },
  "language_info": {
   "codemirror_mode": {
    "name": "ipython",
    "version": 3
   },
   "file_extension": ".py",
   "mimetype": "text/x-python",
   "name": "python",
   "nbconvert_exporter": "python",
   "pygments_lexer": "ipython3",
   "version": "3.4.3"
  }
 },
 "nbformat": 4,
 "nbformat_minor": 2
}
